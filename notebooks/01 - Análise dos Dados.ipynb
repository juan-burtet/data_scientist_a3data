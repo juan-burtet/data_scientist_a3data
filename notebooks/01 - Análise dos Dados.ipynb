{
 "cells": [
  {
   "cell_type": "markdown",
   "id": "e85072be",
   "metadata": {},
   "source": [
    "# Análise Exploratória dos Dados\n",
    "\n",
    "A primeira etapa a ser feito durante o projeto é a **Análise dos Dados**. A etapa da análise de dados em um projeto costuma utilizar apenas os dados de treino para se ter o mínimo de conhecimento dos dados finais a serem avaliados, tentando impedir vazamento da informação. Entretanto, existe alguns casos que a utilização dos todos os dados para análise pode ser necessário, devido a quantidade de informação disponível. Através de uma análise inicial, foi detectado a presença de 7043 linhas no dataset, o que já é um conjunto pequeno avaliando projetos de *Data Science*, e se fossemos tirar 20% desses dados para guardar para teste, ficariamos com um conjunto menor ainda. Para suprir este problema, será feito a análise em **todo o dataset** para tentar entender ao máximo o comportamento das informações, e trabalhar com modelos mais simples, para evitar problemas de **overfitting** nas predições dos dados.\n",
    "\n",
    "Além disso, os principais objetivos dessa etapa é ter um melhor entendimento dos dados e do negócio, para conseguir encontrar possíveis relações que causam o **Churn** dos clientes."
   ]
  },
  {
   "cell_type": "markdown",
   "id": "8b51a0d9",
   "metadata": {},
   "source": [
    "## Bibliotecas e inicializações importantes"
   ]
  },
  {
   "cell_type": "code",
   "execution_count": 1,
   "id": "318daddf",
   "metadata": {},
   "outputs": [],
   "source": [
    "import pandas as pd\n",
    "import numpy as np\n",
    "import matplotlib.pyplot as plt\n",
    "from matplotlib import rcParams\n",
    "import seaborn as sns\n",
    "from scipy import stats\n",
    "\n",
    "%matplotlib inline\n",
    "sns.set()\n",
    "\n",
    "# usado para o valor float do Pandas ficar neste formato\n",
    "pd.options.display.float_format = '{:,.2f}'.format\n",
    "pd.set_option('display.max_columns', None)\n",
    "\n",
    "# Tamanho da Figura ao imprimir os gráficos\n",
    "rcParams['figure.figsize'] = 15, 10"
   ]
  },
  {
   "cell_type": "markdown",
   "id": "f5270ac9",
   "metadata": {},
   "source": [
    "## Leitura dos dados"
   ]
  },
  {
   "cell_type": "code",
   "execution_count": 2,
   "id": "80fc7eff",
   "metadata": {},
   "outputs": [],
   "source": [
    "DATA_FOLDER = \"../data/\"\n",
    "RAW_FOLDER = DATA_FOLDER + 'raw/'"
   ]
  },
  {
   "cell_type": "code",
   "execution_count": 3,
   "id": "09ac01f9",
   "metadata": {},
   "outputs": [
    {
     "data": {
      "text/html": [
       "<div>\n",
       "<style scoped>\n",
       "    .dataframe tbody tr th:only-of-type {\n",
       "        vertical-align: middle;\n",
       "    }\n",
       "\n",
       "    .dataframe tbody tr th {\n",
       "        vertical-align: top;\n",
       "    }\n",
       "\n",
       "    .dataframe thead th {\n",
       "        text-align: right;\n",
       "    }\n",
       "</style>\n",
       "<table border=\"1\" class=\"dataframe\">\n",
       "  <thead>\n",
       "    <tr style=\"text-align: right;\">\n",
       "      <th></th>\n",
       "      <th>customerID</th>\n",
       "      <th>gender</th>\n",
       "      <th>SeniorCitizen</th>\n",
       "      <th>Partner</th>\n",
       "      <th>Dependents</th>\n",
       "      <th>tenure</th>\n",
       "      <th>PhoneService</th>\n",
       "      <th>MultipleLines</th>\n",
       "      <th>InternetService</th>\n",
       "      <th>OnlineSecurity</th>\n",
       "      <th>OnlineBackup</th>\n",
       "      <th>DeviceProtection</th>\n",
       "      <th>TechSupport</th>\n",
       "      <th>StreamingTV</th>\n",
       "      <th>StreamingMovies</th>\n",
       "      <th>Contract</th>\n",
       "      <th>PaperlessBilling</th>\n",
       "      <th>PaymentMethod</th>\n",
       "      <th>MonthlyCharges</th>\n",
       "      <th>TotalCharges</th>\n",
       "      <th>Churn</th>\n",
       "    </tr>\n",
       "  </thead>\n",
       "  <tbody>\n",
       "    <tr>\n",
       "      <th>0</th>\n",
       "      <td>7569-NMZYQ</td>\n",
       "      <td>Female</td>\n",
       "      <td>0.00</td>\n",
       "      <td>Yes</td>\n",
       "      <td>Yes</td>\n",
       "      <td>72.00</td>\n",
       "      <td>Yes</td>\n",
       "      <td>Yes</td>\n",
       "      <td>Fiber optic</td>\n",
       "      <td>Yes</td>\n",
       "      <td>Yes</td>\n",
       "      <td>Yes</td>\n",
       "      <td>Yes</td>\n",
       "      <td>Yes</td>\n",
       "      <td>Yes</td>\n",
       "      <td>Two year</td>\n",
       "      <td>Yes</td>\n",
       "      <td>Bank transfer (automatic)</td>\n",
       "      <td>118.75</td>\n",
       "      <td>8,672.45</td>\n",
       "      <td>No</td>\n",
       "    </tr>\n",
       "    <tr>\n",
       "      <th>1</th>\n",
       "      <td>8984-HPEMB</td>\n",
       "      <td>Female</td>\n",
       "      <td>0.00</td>\n",
       "      <td>No</td>\n",
       "      <td>No</td>\n",
       "      <td>71.00</td>\n",
       "      <td>Yes</td>\n",
       "      <td>Yes</td>\n",
       "      <td>Fiber optic</td>\n",
       "      <td>Yes</td>\n",
       "      <td>Yes</td>\n",
       "      <td>Yes</td>\n",
       "      <td>Yes</td>\n",
       "      <td>Yes</td>\n",
       "      <td>Yes</td>\n",
       "      <td>Two year</td>\n",
       "      <td>Yes</td>\n",
       "      <td>Electronic check</td>\n",
       "      <td>118.65</td>\n",
       "      <td>8,477.60</td>\n",
       "      <td>No</td>\n",
       "    </tr>\n",
       "    <tr>\n",
       "      <th>2</th>\n",
       "      <td>5989-AXPUC</td>\n",
       "      <td>Female</td>\n",
       "      <td>0.00</td>\n",
       "      <td>Yes</td>\n",
       "      <td>No</td>\n",
       "      <td>68.00</td>\n",
       "      <td>Yes</td>\n",
       "      <td>Yes</td>\n",
       "      <td>Fiber optic</td>\n",
       "      <td>Yes</td>\n",
       "      <td>Yes</td>\n",
       "      <td>Yes</td>\n",
       "      <td>Yes</td>\n",
       "      <td>Yes</td>\n",
       "      <td>Yes</td>\n",
       "      <td>Two year</td>\n",
       "      <td>No</td>\n",
       "      <td>Mailed check</td>\n",
       "      <td>118.60</td>\n",
       "      <td>7,990.05</td>\n",
       "      <td>No</td>\n",
       "    </tr>\n",
       "    <tr>\n",
       "      <th>3</th>\n",
       "      <td>5734-EJKXG</td>\n",
       "      <td>Female</td>\n",
       "      <td>0.00</td>\n",
       "      <td>No</td>\n",
       "      <td>No</td>\n",
       "      <td>61.00</td>\n",
       "      <td>Yes</td>\n",
       "      <td>Yes</td>\n",
       "      <td>Fiber optic</td>\n",
       "      <td>Yes</td>\n",
       "      <td>Yes</td>\n",
       "      <td>Yes</td>\n",
       "      <td>Yes</td>\n",
       "      <td>Yes</td>\n",
       "      <td>Yes</td>\n",
       "      <td>One year</td>\n",
       "      <td>Yes</td>\n",
       "      <td>Electronic check</td>\n",
       "      <td>118.60</td>\n",
       "      <td>7,365.70</td>\n",
       "      <td>No</td>\n",
       "    </tr>\n",
       "    <tr>\n",
       "      <th>4</th>\n",
       "      <td>8199-ZLLSA</td>\n",
       "      <td>Male</td>\n",
       "      <td>0.00</td>\n",
       "      <td>No</td>\n",
       "      <td>No</td>\n",
       "      <td>67.00</td>\n",
       "      <td>Yes</td>\n",
       "      <td>Yes</td>\n",
       "      <td>Fiber optic</td>\n",
       "      <td>Yes</td>\n",
       "      <td>Yes</td>\n",
       "      <td>Yes</td>\n",
       "      <td>Yes</td>\n",
       "      <td>Yes</td>\n",
       "      <td>Yes</td>\n",
       "      <td>One year</td>\n",
       "      <td>Yes</td>\n",
       "      <td>Bank transfer (automatic)</td>\n",
       "      <td>118.35</td>\n",
       "      <td>7,804.15</td>\n",
       "      <td>Yes</td>\n",
       "    </tr>\n",
       "    <tr>\n",
       "      <th>...</th>\n",
       "      <td>...</td>\n",
       "      <td>...</td>\n",
       "      <td>...</td>\n",
       "      <td>...</td>\n",
       "      <td>...</td>\n",
       "      <td>...</td>\n",
       "      <td>...</td>\n",
       "      <td>...</td>\n",
       "      <td>...</td>\n",
       "      <td>...</td>\n",
       "      <td>...</td>\n",
       "      <td>...</td>\n",
       "      <td>...</td>\n",
       "      <td>...</td>\n",
       "      <td>...</td>\n",
       "      <td>...</td>\n",
       "      <td>...</td>\n",
       "      <td>...</td>\n",
       "      <td>...</td>\n",
       "      <td>...</td>\n",
       "      <td>...</td>\n",
       "    </tr>\n",
       "    <tr>\n",
       "      <th>7038</th>\n",
       "      <td>0621-CXBKL</td>\n",
       "      <td>Female</td>\n",
       "      <td>0.00</td>\n",
       "      <td>No</td>\n",
       "      <td>No</td>\n",
       "      <td>53.00</td>\n",
       "      <td>Yes</td>\n",
       "      <td>No</td>\n",
       "      <td>No</td>\n",
       "      <td>No internet service</td>\n",
       "      <td>No internet service</td>\n",
       "      <td>No internet service</td>\n",
       "      <td>No internet service</td>\n",
       "      <td>No internet service</td>\n",
       "      <td>No internet service</td>\n",
       "      <td>Two year</td>\n",
       "      <td>No</td>\n",
       "      <td>Mailed check</td>\n",
       "      <td>18.70</td>\n",
       "      <td>1,005.70</td>\n",
       "      <td>No</td>\n",
       "    </tr>\n",
       "    <tr>\n",
       "      <th>7039</th>\n",
       "      <td>9945-PSVIP</td>\n",
       "      <td>Female</td>\n",
       "      <td>0.00</td>\n",
       "      <td>Yes</td>\n",
       "      <td>Yes</td>\n",
       "      <td>25.00</td>\n",
       "      <td>Yes</td>\n",
       "      <td>No</td>\n",
       "      <td>No</td>\n",
       "      <td>No internet service</td>\n",
       "      <td>No internet service</td>\n",
       "      <td>No internet service</td>\n",
       "      <td>No internet service</td>\n",
       "      <td>No internet service</td>\n",
       "      <td>No internet service</td>\n",
       "      <td>Two year</td>\n",
       "      <td>Yes</td>\n",
       "      <td>Mailed check</td>\n",
       "      <td>18.70</td>\n",
       "      <td>383.65</td>\n",
       "      <td>No</td>\n",
       "    </tr>\n",
       "    <tr>\n",
       "      <th>7040</th>\n",
       "      <td>0827-ITJPH</td>\n",
       "      <td>Male</td>\n",
       "      <td>0.00</td>\n",
       "      <td>No</td>\n",
       "      <td>No</td>\n",
       "      <td>36.00</td>\n",
       "      <td>Yes</td>\n",
       "      <td>No</td>\n",
       "      <td>No</td>\n",
       "      <td>No internet service</td>\n",
       "      <td>No internet service</td>\n",
       "      <td>No internet service</td>\n",
       "      <td>No internet service</td>\n",
       "      <td>No internet service</td>\n",
       "      <td>No internet service</td>\n",
       "      <td>Two year</td>\n",
       "      <td>Yes</td>\n",
       "      <td>Credit card (automatic)</td>\n",
       "      <td>18.55</td>\n",
       "      <td>689.00</td>\n",
       "      <td>No</td>\n",
       "    </tr>\n",
       "    <tr>\n",
       "      <th>7041</th>\n",
       "      <td>9764-REAFF</td>\n",
       "      <td>Female</td>\n",
       "      <td>0.00</td>\n",
       "      <td>Yes</td>\n",
       "      <td>No</td>\n",
       "      <td>59.00</td>\n",
       "      <td>Yes</td>\n",
       "      <td>No</td>\n",
       "      <td>No</td>\n",
       "      <td>No internet service</td>\n",
       "      <td>No internet service</td>\n",
       "      <td>No internet service</td>\n",
       "      <td>No internet service</td>\n",
       "      <td>No internet service</td>\n",
       "      <td>No internet service</td>\n",
       "      <td>Two year</td>\n",
       "      <td>No</td>\n",
       "      <td>Bank transfer (automatic)</td>\n",
       "      <td>18.40</td>\n",
       "      <td>1,057.85</td>\n",
       "      <td>No</td>\n",
       "    </tr>\n",
       "    <tr>\n",
       "      <th>7042</th>\n",
       "      <td>6823-SIDFQ</td>\n",
       "      <td>Male</td>\n",
       "      <td>0.00</td>\n",
       "      <td>No</td>\n",
       "      <td>No</td>\n",
       "      <td>28.00</td>\n",
       "      <td>Yes</td>\n",
       "      <td>No</td>\n",
       "      <td>No</td>\n",
       "      <td>No internet service</td>\n",
       "      <td>No internet service</td>\n",
       "      <td>No internet service</td>\n",
       "      <td>No internet service</td>\n",
       "      <td>No internet service</td>\n",
       "      <td>No internet service</td>\n",
       "      <td>One year</td>\n",
       "      <td>No</td>\n",
       "      <td>Credit card (automatic)</td>\n",
       "      <td>18.25</td>\n",
       "      <td>534.70</td>\n",
       "      <td>No</td>\n",
       "    </tr>\n",
       "  </tbody>\n",
       "</table>\n",
       "<p>7043 rows × 21 columns</p>\n",
       "</div>"
      ],
      "text/plain": [
       "      customerID  gender  SeniorCitizen Partner Dependents  tenure  \\\n",
       "0     7569-NMZYQ  Female           0.00     Yes        Yes   72.00   \n",
       "1     8984-HPEMB  Female           0.00      No         No   71.00   \n",
       "2     5989-AXPUC  Female           0.00     Yes         No   68.00   \n",
       "3     5734-EJKXG  Female           0.00      No         No   61.00   \n",
       "4     8199-ZLLSA    Male           0.00      No         No   67.00   \n",
       "...          ...     ...            ...     ...        ...     ...   \n",
       "7038  0621-CXBKL  Female           0.00      No         No   53.00   \n",
       "7039  9945-PSVIP  Female           0.00     Yes        Yes   25.00   \n",
       "7040  0827-ITJPH    Male           0.00      No         No   36.00   \n",
       "7041  9764-REAFF  Female           0.00     Yes         No   59.00   \n",
       "7042  6823-SIDFQ    Male           0.00      No         No   28.00   \n",
       "\n",
       "     PhoneService MultipleLines InternetService       OnlineSecurity  \\\n",
       "0             Yes           Yes     Fiber optic                  Yes   \n",
       "1             Yes           Yes     Fiber optic                  Yes   \n",
       "2             Yes           Yes     Fiber optic                  Yes   \n",
       "3             Yes           Yes     Fiber optic                  Yes   \n",
       "4             Yes           Yes     Fiber optic                  Yes   \n",
       "...           ...           ...             ...                  ...   \n",
       "7038          Yes            No              No  No internet service   \n",
       "7039          Yes            No              No  No internet service   \n",
       "7040          Yes            No              No  No internet service   \n",
       "7041          Yes            No              No  No internet service   \n",
       "7042          Yes            No              No  No internet service   \n",
       "\n",
       "             OnlineBackup     DeviceProtection          TechSupport  \\\n",
       "0                     Yes                  Yes                  Yes   \n",
       "1                     Yes                  Yes                  Yes   \n",
       "2                     Yes                  Yes                  Yes   \n",
       "3                     Yes                  Yes                  Yes   \n",
       "4                     Yes                  Yes                  Yes   \n",
       "...                   ...                  ...                  ...   \n",
       "7038  No internet service  No internet service  No internet service   \n",
       "7039  No internet service  No internet service  No internet service   \n",
       "7040  No internet service  No internet service  No internet service   \n",
       "7041  No internet service  No internet service  No internet service   \n",
       "7042  No internet service  No internet service  No internet service   \n",
       "\n",
       "              StreamingTV      StreamingMovies  Contract PaperlessBilling  \\\n",
       "0                     Yes                  Yes  Two year              Yes   \n",
       "1                     Yes                  Yes  Two year              Yes   \n",
       "2                     Yes                  Yes  Two year               No   \n",
       "3                     Yes                  Yes  One year              Yes   \n",
       "4                     Yes                  Yes  One year              Yes   \n",
       "...                   ...                  ...       ...              ...   \n",
       "7038  No internet service  No internet service  Two year               No   \n",
       "7039  No internet service  No internet service  Two year              Yes   \n",
       "7040  No internet service  No internet service  Two year              Yes   \n",
       "7041  No internet service  No internet service  Two year               No   \n",
       "7042  No internet service  No internet service  One year               No   \n",
       "\n",
       "                  PaymentMethod  MonthlyCharges  TotalCharges Churn  \n",
       "0     Bank transfer (automatic)          118.75      8,672.45    No  \n",
       "1              Electronic check          118.65      8,477.60    No  \n",
       "2                  Mailed check          118.60      7,990.05    No  \n",
       "3              Electronic check          118.60      7,365.70    No  \n",
       "4     Bank transfer (automatic)          118.35      7,804.15   Yes  \n",
       "...                         ...             ...           ...   ...  \n",
       "7038               Mailed check           18.70      1,005.70    No  \n",
       "7039               Mailed check           18.70        383.65    No  \n",
       "7040    Credit card (automatic)           18.55        689.00    No  \n",
       "7041  Bank transfer (automatic)           18.40      1,057.85    No  \n",
       "7042    Credit card (automatic)           18.25        534.70    No  \n",
       "\n",
       "[7043 rows x 21 columns]"
      ]
     },
     "execution_count": 3,
     "metadata": {},
     "output_type": "execute_result"
    }
   ],
   "source": [
    "data = pd.read_excel(f\"{RAW_FOLDER}Customer-Churn.xlsx\")\n",
    "data"
   ]
  },
  {
   "cell_type": "markdown",
   "id": "bdf3f552",
   "metadata": {},
   "source": [
    "# Análise inicial\n",
    "\n",
    "Antes de fazer uma análise a fundo das variáveis, será feito uma análise inicial que dará as seguintes informações:\n",
    "\n",
    "* Formato do `DataFrame` (Quantidade de Linhas, Quantidade de Colunas)\n",
    "* Distribuição da variável **Churn** (estamos trabalhando com um conjunto de dados balanceado?)\n",
    "* Os tipos de cada uma das variáveis"
   ]
  },
  {
   "cell_type": "markdown",
   "id": "b29add78",
   "metadata": {},
   "source": [
    "## Tamanho dos Dados\n",
    "\n",
    "Antes de tudo, podemos verificar o tamanho do `DataFrame` para se ter uma noção da quantidade de dados que serão utilizados"
   ]
  },
  {
   "cell_type": "code",
   "execution_count": 4,
   "id": "a42e1680",
   "metadata": {},
   "outputs": [
    {
     "data": {
      "text/plain": [
       "(7043, 21)"
      ]
     },
     "execution_count": 4,
     "metadata": {},
     "output_type": "execute_result"
    }
   ],
   "source": [
    "data.shape"
   ]
  },
  {
   "cell_type": "markdown",
   "id": "dcff89e9",
   "metadata": {},
   "source": [
    "O conjunto de dados `Customer-Churn` possuí $7043$ linhas e $21$ colunas."
   ]
  },
  {
   "cell_type": "markdown",
   "id": "572271e7",
   "metadata": {},
   "source": [
    "## Distribuição dos dados de **Churn**\n",
    "\n",
    "Outro ponto importante que é bom avaliar inicialmente é a distribuição dos dados, para verificar se o dados com a informação de **Churn** estão balanceados ou não."
   ]
  },
  {
   "cell_type": "code",
   "execution_count": 5,
   "id": "efac2914",
   "metadata": {},
   "outputs": [],
   "source": [
    "def value_counts_percentage(df: pd.DataFrame, column: str) -> pd.DataFrame:\n",
    "    \"\"\"\n",
    "    Método usado para indicar a quantidade de cada valor da coluna\n",
    "    com sua porcentagem sobre o total dos dados.\n",
    "    \"\"\"\n",
    "    \n",
    "    # Dataframe com as informações\n",
    "    display_df = pd.DataFrame(df[column].value_counts())\n",
    "    display_df = display_df.rename_axis('Valor')\n",
    "    \n",
    "    # Quantidade e Porcentagem\n",
    "    display_df.columns = ['Quantidade']\n",
    "    display_df['Porcentagem'] = 100 * display_df['Quantidade'] / display_df['Quantidade'].sum()\n",
    "    \n",
    "    return display_df"
   ]
  },
  {
   "cell_type": "code",
   "execution_count": 6,
   "id": "3fe10c1c",
   "metadata": {},
   "outputs": [
    {
     "data": {
      "text/html": [
       "<div>\n",
       "<style scoped>\n",
       "    .dataframe tbody tr th:only-of-type {\n",
       "        vertical-align: middle;\n",
       "    }\n",
       "\n",
       "    .dataframe tbody tr th {\n",
       "        vertical-align: top;\n",
       "    }\n",
       "\n",
       "    .dataframe thead th {\n",
       "        text-align: right;\n",
       "    }\n",
       "</style>\n",
       "<table border=\"1\" class=\"dataframe\">\n",
       "  <thead>\n",
       "    <tr style=\"text-align: right;\">\n",
       "      <th></th>\n",
       "      <th>Quantidade</th>\n",
       "      <th>Porcentagem</th>\n",
       "    </tr>\n",
       "    <tr>\n",
       "      <th>Valor</th>\n",
       "      <th></th>\n",
       "      <th></th>\n",
       "    </tr>\n",
       "  </thead>\n",
       "  <tbody>\n",
       "    <tr>\n",
       "      <th>No</th>\n",
       "      <td>5174</td>\n",
       "      <td>73.46</td>\n",
       "    </tr>\n",
       "    <tr>\n",
       "      <th>Yes</th>\n",
       "      <td>1869</td>\n",
       "      <td>26.54</td>\n",
       "    </tr>\n",
       "  </tbody>\n",
       "</table>\n",
       "</div>"
      ],
      "text/plain": [
       "       Quantidade  Porcentagem\n",
       "Valor                         \n",
       "No           5174        73.46\n",
       "Yes          1869        26.54"
      ]
     },
     "execution_count": 6,
     "metadata": {},
     "output_type": "execute_result"
    }
   ],
   "source": [
    "value_counts_percentage(data, 'Churn')"
   ]
  },
  {
   "cell_type": "markdown",
   "id": "0e7983bf",
   "metadata": {},
   "source": [
    "Além da visualização em formato `DataFrame`, é possível apresentar a informação em um gráfico de pizza, para termos uma melhor percepção da proporção dos dados."
   ]
  },
  {
   "cell_type": "code",
   "execution_count": 7,
   "id": "68748ccb",
   "metadata": {},
   "outputs": [
    {
     "data": {
      "image/png": "[encoded data removed]",
      "text/plain": [
       "<Figure size 1080x720 with 1 Axes>"
      ]
     },
     "metadata": {},
     "output_type": "display_data"
    }
   ],
   "source": [
    "results = value_counts_percentage(data, 'Churn')\n",
    "results.plot.pie(y='Quantidade', autopct=\"%.2f%%\")\n",
    "\n",
    "plt.title('Distribuição do Churn')\n",
    "plt.show()"
   ]
  },
  {
   "cell_type": "markdown",
   "id": "39475bd7",
   "metadata": {},
   "source": [
    "Neste caso, a distribuição indica que a taxa de **Churn** dos clientes é de 26.54% (1869), o que indica que 1/4 clientes foram perdidos."
   ]
  },
  {
   "cell_type": "markdown",
   "id": "5a3e01c7",
   "metadata": {},
   "source": [
    "## Tipos das variáveis\n",
    "\n",
    "E por fim, verificamos os tipos de cada uma das variáveis do `DataFrame`."
   ]
  },
  {
   "cell_type": "code",
   "execution_count": 8,
   "id": "7b1e57a9",
   "metadata": {},
   "outputs": [
    {
     "name": "stdout",
     "output_type": "stream",
     "text": [
      "<class 'pandas.core.frame.DataFrame'>\n",
      "RangeIndex: 7043 entries, 0 to 7042\n",
      "Data columns (total 21 columns):\n",
      " #   Column            Non-Null Count  Dtype  \n",
      "---  ------            --------------  -----  \n",
      " 0   customerID        7043 non-null   object \n",
      " 1   gender            7043 non-null   object \n",
      " 2   SeniorCitizen     7043 non-null   float64\n",
      " 3   Partner           7043 non-null   object \n",
      " 4   Dependents        7043 non-null   object \n",
      " 5   tenure            7043 non-null   float64\n",
      " 6   PhoneService      7043 non-null   object \n",
      " 7   MultipleLines     7043 non-null   object \n",
      " 8   InternetService   7043 non-null   object \n",
      " 9   OnlineSecurity    7043 non-null   object \n",
      " 10  OnlineBackup      7043 non-null   object \n",
      " 11  DeviceProtection  7043 non-null   object \n",
      " 12  TechSupport       7043 non-null   object \n",
      " 13  StreamingTV       7043 non-null   object \n",
      " 14  StreamingMovies   7043 non-null   object \n",
      " 15  Contract          7043 non-null   object \n",
      " 16  PaperlessBilling  7043 non-null   object \n",
      " 17  PaymentMethod     7043 non-null   object \n",
      " 18  MonthlyCharges    7043 non-null   float64\n",
      " 19  TotalCharges      7032 non-null   float64\n",
      " 20  Churn             7043 non-null   object \n",
      "dtypes: float64(4), object(17)\n",
      "memory usage: 1.1+ MB\n"
     ]
    }
   ],
   "source": [
    "data.info()"
   ]
  },
  {
   "cell_type": "markdown",
   "id": "127ddd77",
   "metadata": {},
   "source": [
    "Com o método **info** é possível verificar cada uma das colunas com seus tipos. Além disso, é possível verificar a quantidade de dados **não-nulos**, que indica que a única variável que não possuí um preenchimento completo é **TotalCharges**."
   ]
  },
  {
   "cell_type": "code",
   "execution_count": 9,
   "id": "ebdab180",
   "metadata": {},
   "outputs": [
    {
     "data": {
      "text/plain": [
       "Counter({dtype('O'): 17, dtype('float64'): 4})"
      ]
     },
     "execution_count": 9,
     "metadata": {},
     "output_type": "execute_result"
    }
   ],
   "source": [
    "from collections import Counter\n",
    "\n",
    "Counter(data.dtypes)"
   ]
  },
  {
   "cell_type": "markdown",
   "id": "86801c07",
   "metadata": {},
   "source": [
    "Utilizando a função **Counter** da biblioteca **collections** do próprio Python é possível fazer uma contagem de cada um dos tipos. Com isso, chegamos aos seguintes resultados:\n",
    "\n",
    "| **TIPO** | **QUANTIDADE** |\n",
    "| :- | -: |\n",
    "| object | 17 |\n",
    "| float64 | 4 |\n",
    "\n",
    "**OBS: Em Pandas, o tipo object indica que a coluna é do tipo string.**"
   ]
  },
  {
   "cell_type": "markdown",
   "id": "a01bfa08",
   "metadata": {},
   "source": [
    "Com estas informações iniciais adquiridas, será feito uma análise mais afundo de cada uma das variáveis."
   ]
  },
  {
   "cell_type": "markdown",
   "id": "62ac1942",
   "metadata": {},
   "source": [
    "# Análise individual de cada variável\n",
    "\n",
    "Nesta seção será feito uma análise de cada uma das variáveis, onde será verificado sua distribuição, se existe valores *outliers* e se seu comportamento é muito diferente em caso de **Churn ou não**."
   ]
  },
  {
   "cell_type": "markdown",
   "id": "7b4bf74f",
   "metadata": {},
   "source": [
    "No arquivo **README.md** do projeto é feito uma descrição de cada uma das variáveis. Aqui será listado cada uma das variáveis (excluindo a de Churn), mas o seu significado será descrito em cada uma das análises individuais (utilizando nome do atributo e seus valores).\n",
    "\n",
    "| **#** | **Váriavel** |\n",
    "| :-: | :- |\n",
    "| 00 | customerID |      \n",
    "| 01 | gender |           \n",
    "| 02 | SeniorCitizen |    \n",
    "| 03 | Partner |          \n",
    "| 04 | Dependents |       \n",
    "| 05 | tenure |           \n",
    "| 06 | PhoneService |     \n",
    "| 07 | MultipleLines |    \n",
    "| 08 | InternetService |  \n",
    "| 09 | OnlineSecurity |   \n",
    "| 10 | OnlineBackup |     \n",
    "| 11 | DeviceProtection | \n",
    "| 12 | TechSupport |       \n",
    "| 13 | StreamingTV |       \n",
    "| 14 | StreamingMovies |  \n",
    "| 15 | Contract |         \n",
    "| 16 | PaperlessBilling | \n",
    "| 17 | PaymentMethod |    \n",
    "| 18 | MonthlyCharges |    \n",
    "| 19 | TotalCharges |     \n",
    "\n",
    "**Para uma melhor organização, a análise será feita na mesma ordem da tabela.**"
   ]
  },
  {
   "cell_type": "markdown",
   "id": "ed86a529",
   "metadata": {},
   "source": [
    "## **customerID**\n",
    "\n",
    "ID único para cada um dos clientes."
   ]
  },
  {
   "cell_type": "markdown",
   "id": "67a77d72",
   "metadata": {},
   "source": [
    "Entretanto, será verificado se todos os registros do conjunto de dados possuem um **customerID** distinto."
   ]
  },
  {
   "cell_type": "code",
   "execution_count": 10,
   "id": "a1f612ec",
   "metadata": {},
   "outputs": [
    {
     "data": {
      "text/plain": [
       "7043"
      ]
     },
     "execution_count": 10,
     "metadata": {},
     "output_type": "execute_result"
    }
   ],
   "source": [
    "data['customerID'].nunique()"
   ]
  },
  {
   "cell_type": "markdown",
   "id": "f02e30b1",
   "metadata": {},
   "source": [
    "Com um total de 7043 linhas no dataset e 7043 **customerID** diferentes, é possível verificar que o conjunto de dados contém um ID distinto para cada um dos seus registros."
   ]
  },
  {
   "cell_type": "code",
   "execution_count": 11,
   "id": "feb190ce",
   "metadata": {},
   "outputs": [
    {
     "data": {
      "text/plain": [
       "5349    2011-TRQYE\n",
       "1577    9546-CQJSU\n",
       "1353    2037-SGXHH\n",
       "570     8123-QBNAZ\n",
       "4245    6872-HXFNF\n",
       "3447    0151-ONTOV\n",
       "5512    3088-FVYWK\n",
       "6434    2181-TIDSV\n",
       "74      5322-TEUJK\n",
       "3487    9365-SRSZE\n",
       "Name: customerID, dtype: object"
      ]
     },
     "execution_count": 11,
     "metadata": {},
     "output_type": "execute_result"
    }
   ],
   "source": [
    "data['customerID'].sample(10)"
   ]
  },
  {
   "cell_type": "markdown",
   "id": "9bf008f9",
   "metadata": {},
   "source": [
    "## **gender**\n",
    "\n",
    "Gênero dos clientes"
   ]
  },
  {
   "cell_type": "markdown",
   "id": "882c7399",
   "metadata": {},
   "source": [
    "A variável **gender** apresenta o gênero do cliente, indicando os dois valores possíveis: Masculino (**Male**) e Feminino (**Female**)."
   ]
  },
  {
   "cell_type": "code",
   "execution_count": 12,
   "id": "387989e9",
   "metadata": {},
   "outputs": [
    {
     "data": {
      "text/html": [
       "<div>\n",
       "<style scoped>\n",
       "    .dataframe tbody tr th:only-of-type {\n",
       "        vertical-align: middle;\n",
       "    }\n",
       "\n",
       "    .dataframe tbody tr th {\n",
       "        vertical-align: top;\n",
       "    }\n",
       "\n",
       "    .dataframe thead th {\n",
       "        text-align: right;\n",
       "    }\n",
       "</style>\n",
       "<table border=\"1\" class=\"dataframe\">\n",
       "  <thead>\n",
       "    <tr style=\"text-align: right;\">\n",
       "      <th></th>\n",
       "      <th>Quantidade</th>\n",
       "      <th>Porcentagem</th>\n",
       "      <th>Churn</th>\n",
       "      <th>Churn (%)</th>\n",
       "    </tr>\n",
       "    <tr>\n",
       "      <th>Valor</th>\n",
       "      <th></th>\n",
       "      <th></th>\n",
       "      <th></th>\n",
       "      <th></th>\n",
       "    </tr>\n",
       "  </thead>\n",
       "  <tbody>\n",
       "    <tr>\n",
       "      <th>Male</th>\n",
       "      <td>3555</td>\n",
       "      <td>50.48</td>\n",
       "      <td>930</td>\n",
       "      <td>26.16</td>\n",
       "    </tr>\n",
       "    <tr>\n",
       "      <th>Female</th>\n",
       "      <td>3488</td>\n",
       "      <td>49.52</td>\n",
       "      <td>939</td>\n",
       "      <td>26.92</td>\n",
       "    </tr>\n",
       "  </tbody>\n",
       "</table>\n",
       "</div>"
      ],
      "text/plain": [
       "        Quantidade  Porcentagem  Churn  Churn (%)\n",
       "Valor                                            \n",
       "Male          3555        50.48    930      26.16\n",
       "Female        3488        49.52    939      26.92"
      ]
     },
     "execution_count": 12,
     "metadata": {},
     "output_type": "execute_result"
    }
   ],
   "source": [
    "def value_counts_churn(df: pd.DataFrame, column: str) -> pd.DataFrame:\n",
    "    \"\"\"\n",
    "    Método usado para indicar a quantidade de cada valor da coluna\n",
    "    com sua porcentagem, junto da quantidade de Churn baseado nos\n",
    "    valores daquele atributo.\n",
    "    \"\"\"\n",
    "    \n",
    "    # Quantidade e Porcentagem da coluna especifica\n",
    "    display_df = value_counts_percentage(df, column)\n",
    "    \n",
    "    # Quantidad de Churn em cada valor e sua porcentagem\n",
    "    index_values = display_df.index    \n",
    "    display_df['Churn'] = [df[(df[column] == i) & (df['Churn'] == 'Yes')].shape[0] \n",
    "                           for i in index_values]\n",
    "    \n",
    "    display_df['Churn (%)'] = 100 * display_df['Churn'] / display_df['Quantidade']\n",
    "    return display_df\n",
    "\n",
    "value_counts_churn(data, 'gender')"
   ]
  },
  {
   "cell_type": "markdown",
   "id": "b5413867",
   "metadata": {},
   "source": [
    "Avaliando a quantidade de cada um dos gêneros, junto da sua relação de **Churn**, é possível observar que os dados são bem divididos na distribuição entre Masculino e Feminino, inclusive na parcela de clientes com a flag de **Churn**. Além disso, é possível avaliar que a **taxa de churn** em cada um dos casos segue a mesma distribuição dos dados gerais. Através dessa análise superficial, tudo indica que o gênero do cliente não é algo que leva o cliente a desistir do serviço ou produto.\n",
    "\n",
    "**Muito dos modelos que são feitos no contexto de machine learning aprendem os padrões nos dados, além de eventuais conceitos que nós mesmos passamos para eles. Muitas vezes, é comum tentarmos retirar essas informações que podem levar a ações _tendenciosas_. Sendo assim, a informação sobre o gênero da pessoa não será utilizada nas seguintes etapas, até mesmo por indicar que o mesmo não tem relevância para decisão de _Churn_.**"
   ]
  },
  {
   "cell_type": "markdown",
   "id": "c5427bf7",
   "metadata": {},
   "source": [
    "## **SeniorCitizen**\n",
    "\n",
    "Flag indicando se o cliente é idoso."
   ]
  },
  {
   "cell_type": "markdown",
   "id": "acf2b390",
   "metadata": {},
   "source": [
    "Através da nomenclatura usada para definir o atributo, é possível supôr que a mesma indica o valor $1$ para um cliente idoso e $0$ em caso contrário."
   ]
  },
  {
   "cell_type": "code",
   "execution_count": 13,
   "id": "c16dff58",
   "metadata": {},
   "outputs": [
    {
     "data": {
      "text/html": [
       "<div>\n",
       "<style scoped>\n",
       "    .dataframe tbody tr th:only-of-type {\n",
       "        vertical-align: middle;\n",
       "    }\n",
       "\n",
       "    .dataframe tbody tr th {\n",
       "        vertical-align: top;\n",
       "    }\n",
       "\n",
       "    .dataframe thead th {\n",
       "        text-align: right;\n",
       "    }\n",
       "</style>\n",
       "<table border=\"1\" class=\"dataframe\">\n",
       "  <thead>\n",
       "    <tr style=\"text-align: right;\">\n",
       "      <th></th>\n",
       "      <th>Quantidade</th>\n",
       "      <th>Porcentagem</th>\n",
       "      <th>Churn</th>\n",
       "      <th>Churn (%)</th>\n",
       "    </tr>\n",
       "    <tr>\n",
       "      <th>Valor</th>\n",
       "      <th></th>\n",
       "      <th></th>\n",
       "      <th></th>\n",
       "      <th></th>\n",
       "    </tr>\n",
       "  </thead>\n",
       "  <tbody>\n",
       "    <tr>\n",
       "      <th>0.00</th>\n",
       "      <td>5901</td>\n",
       "      <td>83.79</td>\n",
       "      <td>1393</td>\n",
       "      <td>23.61</td>\n",
       "    </tr>\n",
       "    <tr>\n",
       "      <th>1.00</th>\n",
       "      <td>1142</td>\n",
       "      <td>16.21</td>\n",
       "      <td>476</td>\n",
       "      <td>41.68</td>\n",
       "    </tr>\n",
       "  </tbody>\n",
       "</table>\n",
       "</div>"
      ],
      "text/plain": [
       "       Quantidade  Porcentagem  Churn  Churn (%)\n",
       "Valor                                           \n",
       "0.00         5901        83.79   1393      23.61\n",
       "1.00         1142        16.21    476      41.68"
      ]
     },
     "execution_count": 13,
     "metadata": {},
     "output_type": "execute_result"
    }
   ],
   "source": [
    "value_counts_churn(data, 'SeniorCitizen')"
   ]
  },
  {
   "cell_type": "markdown",
   "id": "60422fa0",
   "metadata": {},
   "source": [
    "Diferente do que foi visto nos dados de gênero, aqui é possível verificar que a quantidade de cliente **não-idosos** representa quase 84% dos dados. Entretanto, é possível verificar que a **taxa de Churn** em clientes idosos é maior, podendo indicar que o produto ou serviço não atende com a mesma facilidade as pessoas de diferentes idades."
   ]
  },
  {
   "cell_type": "markdown",
   "id": "f55aae86",
   "metadata": {},
   "source": [
    "## **Partner**\n",
    "\n",
    "Flag indicando se a pessoa tem um parceiro."
   ]
  },
  {
   "cell_type": "markdown",
   "id": "67ab871d",
   "metadata": {},
   "source": [
    "Através da nomenclatura usada para definir o atributo, é possível supôr que a mesma indica a *string* $Yes$ para um cliente que possua um parceiro e $No$ em caso contrário. Neste caso, como parceiro é entendido que a pessoa esteja em um relacionamento."
   ]
  },
  {
   "cell_type": "code",
   "execution_count": 14,
   "id": "ac40637b",
   "metadata": {},
   "outputs": [
    {
     "data": {
      "text/html": [
       "<div>\n",
       "<style scoped>\n",
       "    .dataframe tbody tr th:only-of-type {\n",
       "        vertical-align: middle;\n",
       "    }\n",
       "\n",
       "    .dataframe tbody tr th {\n",
       "        vertical-align: top;\n",
       "    }\n",
       "\n",
       "    .dataframe thead th {\n",
       "        text-align: right;\n",
       "    }\n",
       "</style>\n",
       "<table border=\"1\" class=\"dataframe\">\n",
       "  <thead>\n",
       "    <tr style=\"text-align: right;\">\n",
       "      <th></th>\n",
       "      <th>Quantidade</th>\n",
       "      <th>Porcentagem</th>\n",
       "      <th>Churn</th>\n",
       "      <th>Churn (%)</th>\n",
       "    </tr>\n",
       "    <tr>\n",
       "      <th>Valor</th>\n",
       "      <th></th>\n",
       "      <th></th>\n",
       "      <th></th>\n",
       "      <th></th>\n",
       "    </tr>\n",
       "  </thead>\n",
       "  <tbody>\n",
       "    <tr>\n",
       "      <th>No</th>\n",
       "      <td>3641</td>\n",
       "      <td>51.70</td>\n",
       "      <td>1200</td>\n",
       "      <td>32.96</td>\n",
       "    </tr>\n",
       "    <tr>\n",
       "      <th>Yes</th>\n",
       "      <td>3402</td>\n",
       "      <td>48.30</td>\n",
       "      <td>669</td>\n",
       "      <td>19.66</td>\n",
       "    </tr>\n",
       "  </tbody>\n",
       "</table>\n",
       "</div>"
      ],
      "text/plain": [
       "       Quantidade  Porcentagem  Churn  Churn (%)\n",
       "Valor                                           \n",
       "No           3641        51.70   1200      32.96\n",
       "Yes          3402        48.30    669      19.66"
      ]
     },
     "execution_count": 14,
     "metadata": {},
     "output_type": "execute_result"
    }
   ],
   "source": [
    "value_counts_churn(data, 'Partner')"
   ]
  },
  {
   "cell_type": "markdown",
   "id": "1d455c6c",
   "metadata": {},
   "source": [
    "Para a variável **Partner**, encontramos uma características bem balanceada nos clientes, onde praticamente metade **tem** um parceiro e a outra metade **não tem**. Entretanto, a **taxa de Churn** em clientes **sem** parceiros é de cerca de 33%, contra 20% em clientes **com** parceiros. Aqui estamos lidando apenas com a comparação de uma única variável, mas surge a suposição que o serviço ou produto parece atender melhores clientes em um contexto familiar, já que apenas ter um parceiro diminui em 13% a chance de desistência."
   ]
  },
  {
   "cell_type": "markdown",
   "id": "c1437bf9",
   "metadata": {},
   "source": [
    "## **Dependents**\n",
    "\n",
    "Flag indicando se a pessoa tem dependentes."
   ]
  },
  {
   "cell_type": "markdown",
   "id": "c0aeb9e6",
   "metadata": {},
   "source": [
    "Através da nomenclatura usada para definir o atributo, é possível supôr que a mesma indica a *string* $Yes$ para um cliente que possua dependentes e $No$ em caso contrário. Para esta variável, será preciso validar alguns questionamentos, como se dependentes se refere apenas a filhos do cliente"
   ]
  },
  {
   "cell_type": "code",
   "execution_count": 15,
   "id": "813d8d90",
   "metadata": {},
   "outputs": [
    {
     "data": {
      "text/html": [
       "<div>\n",
       "<style scoped>\n",
       "    .dataframe tbody tr th:only-of-type {\n",
       "        vertical-align: middle;\n",
       "    }\n",
       "\n",
       "    .dataframe tbody tr th {\n",
       "        vertical-align: top;\n",
       "    }\n",
       "\n",
       "    .dataframe thead th {\n",
       "        text-align: right;\n",
       "    }\n",
       "</style>\n",
       "<table border=\"1\" class=\"dataframe\">\n",
       "  <thead>\n",
       "    <tr style=\"text-align: right;\">\n",
       "      <th></th>\n",
       "      <th>Quantidade</th>\n",
       "      <th>Porcentagem</th>\n",
       "      <th>Churn</th>\n",
       "      <th>Churn (%)</th>\n",
       "    </tr>\n",
       "    <tr>\n",
       "      <th>Valor</th>\n",
       "      <th></th>\n",
       "      <th></th>\n",
       "      <th></th>\n",
       "      <th></th>\n",
       "    </tr>\n",
       "  </thead>\n",
       "  <tbody>\n",
       "    <tr>\n",
       "      <th>No</th>\n",
       "      <td>4933</td>\n",
       "      <td>70.04</td>\n",
       "      <td>1543</td>\n",
       "      <td>31.28</td>\n",
       "    </tr>\n",
       "    <tr>\n",
       "      <th>Yes</th>\n",
       "      <td>2110</td>\n",
       "      <td>29.96</td>\n",
       "      <td>326</td>\n",
       "      <td>15.45</td>\n",
       "    </tr>\n",
       "  </tbody>\n",
       "</table>\n",
       "</div>"
      ],
      "text/plain": [
       "       Quantidade  Porcentagem  Churn  Churn (%)\n",
       "Valor                                           \n",
       "No           4933        70.04   1543      31.28\n",
       "Yes          2110        29.96    326      15.45"
      ]
     },
     "execution_count": 15,
     "metadata": {},
     "output_type": "execute_result"
    }
   ],
   "source": [
    "value_counts_churn(data, 'Dependents')"
   ]
  },
  {
   "cell_type": "markdown",
   "id": "3cd70dcf",
   "metadata": {},
   "source": [
    "Aqui encontramos uma taxa de churn para **não-dependentes** bem próxima da variável **Partner**, sendo cerca de 31%. Além disso, a taxa de churn para clientes **com dependentes** fica perto dos 16%, indicando um pouco do comportamento encontrado na variável **Partner**, onde pessoas fora do contexto familiar tem maior tendência a desistir do serviço/produto."
   ]
  },
  {
   "cell_type": "markdown",
   "id": "d24b5513",
   "metadata": {},
   "source": [
    "Além dessa análise, fica o questionamento sobre a relação **Dependents** com **Partner**, e para isso, será verificado se as duas estão relacionadas."
   ]
  },
  {
   "cell_type": "code",
   "execution_count": 16,
   "id": "7f0fb172",
   "metadata": {},
   "outputs": [
    {
     "data": {
      "text/plain": [
       "(1653, 21)"
      ]
     },
     "execution_count": 16,
     "metadata": {},
     "output_type": "execute_result"
    }
   ],
   "source": [
    "data[(data['Dependents'] == 'No') & (data['Partner'] =='Yes')].shape"
   ]
  },
  {
   "cell_type": "code",
   "execution_count": 17,
   "id": "b520cfa6",
   "metadata": {},
   "outputs": [
    {
     "data": {
      "text/plain": [
       "(361, 21)"
      ]
     },
     "execution_count": 17,
     "metadata": {},
     "output_type": "execute_result"
    }
   ],
   "source": [
    "data[(data['Dependents'] == 'Yes') & (data['Partner'] =='No')].shape"
   ]
  },
  {
   "cell_type": "markdown",
   "id": "c6d295e3",
   "metadata": {},
   "source": [
    "Aqui é possível verificar que as duas **não** são relacionadas, onde existe casos de pessoas com a **Flag Partner** sem nenhum dependente, assim como o contrário também é verdade."
   ]
  },
  {
   "cell_type": "markdown",
   "id": "7950e8fa",
   "metadata": {},
   "source": [
    "## **tenure**\n",
    "\n",
    "Indicação do tempo que o cliente está com o serviço em meses."
   ]
  },
  {
   "cell_type": "markdown",
   "id": "3cfe7d9d",
   "metadata": {},
   "source": [
    "**Tenure** é um termo em inglês que pode ser usado para indicar o tempo de serviço que um cliente utilizada o produto. Verificando os outros atributos do dataset, existe uma coluna que indica o custo mensal do cliente (**MonthlyCharges**), o que leva a crer que a coluna **tenure** indica a **quantidade de meses** está usando o serviço/produto."
   ]
  },
  {
   "cell_type": "code",
   "execution_count": 18,
   "id": "0f0f3e77",
   "metadata": {},
   "outputs": [
    {
     "data": {
      "text/plain": [
       "count   7,043.00\n",
       "mean       32.37\n",
       "std        24.56\n",
       "min         0.00\n",
       "25%         9.00\n",
       "50%        29.00\n",
       "75%        55.00\n",
       "max        72.00\n",
       "Name: tenure, dtype: float64"
      ]
     },
     "execution_count": 18,
     "metadata": {},
     "output_type": "execute_result"
    }
   ],
   "source": [
    "data['tenure'].describe()"
   ]
  },
  {
   "cell_type": "markdown",
   "id": "e84fe392",
   "metadata": {},
   "source": [
    "Aqui encontramos a primeira informação numérica do dataset, indicando a quantidade de meses do cliente com o produto/serviço. Aqui é possível verificar que essa informação tem uma distribuição entre 0 até 72 meses, onde a média de tempo dos clientes é de 32.37 meses e a metade utilizando o serviço por pelo menos 29 meses."
   ]
  },
  {
   "cell_type": "code",
   "execution_count": 19,
   "id": "97ecea10",
   "metadata": {},
   "outputs": [
    {
     "data": {
      "text/html": [
       "<div>\n",
       "<style scoped>\n",
       "    .dataframe tbody tr th:only-of-type {\n",
       "        vertical-align: middle;\n",
       "    }\n",
       "\n",
       "    .dataframe tbody tr th {\n",
       "        vertical-align: top;\n",
       "    }\n",
       "\n",
       "    .dataframe thead th {\n",
       "        text-align: right;\n",
       "    }\n",
       "</style>\n",
       "<table border=\"1\" class=\"dataframe\">\n",
       "  <thead>\n",
       "    <tr style=\"text-align: right;\">\n",
       "      <th></th>\n",
       "      <th>count</th>\n",
       "      <th>mean</th>\n",
       "      <th>std</th>\n",
       "      <th>min</th>\n",
       "      <th>25%</th>\n",
       "      <th>50%</th>\n",
       "      <th>75%</th>\n",
       "      <th>max</th>\n",
       "    </tr>\n",
       "    <tr>\n",
       "      <th>Churn</th>\n",
       "      <th></th>\n",
       "      <th></th>\n",
       "      <th></th>\n",
       "      <th></th>\n",
       "      <th></th>\n",
       "      <th></th>\n",
       "      <th></th>\n",
       "      <th></th>\n",
       "    </tr>\n",
       "  </thead>\n",
       "  <tbody>\n",
       "    <tr>\n",
       "      <th>No</th>\n",
       "      <td>5,174.00</td>\n",
       "      <td>37.57</td>\n",
       "      <td>24.11</td>\n",
       "      <td>0.00</td>\n",
       "      <td>15.00</td>\n",
       "      <td>38.00</td>\n",
       "      <td>61.00</td>\n",
       "      <td>72.00</td>\n",
       "    </tr>\n",
       "    <tr>\n",
       "      <th>Yes</th>\n",
       "      <td>1,869.00</td>\n",
       "      <td>17.98</td>\n",
       "      <td>19.53</td>\n",
       "      <td>1.00</td>\n",
       "      <td>2.00</td>\n",
       "      <td>10.00</td>\n",
       "      <td>29.00</td>\n",
       "      <td>72.00</td>\n",
       "    </tr>\n",
       "  </tbody>\n",
       "</table>\n",
       "</div>"
      ],
      "text/plain": [
       "         count  mean   std  min   25%   50%   75%   max\n",
       "Churn                                                  \n",
       "No    5,174.00 37.57 24.11 0.00 15.00 38.00 61.00 72.00\n",
       "Yes   1,869.00 17.98 19.53 1.00  2.00 10.00 29.00 72.00"
      ]
     },
     "execution_count": 19,
     "metadata": {},
     "output_type": "execute_result"
    }
   ],
   "source": [
    "data.groupby('Churn')['tenure'].describe()"
   ]
  },
  {
   "cell_type": "markdown",
   "id": "ee2e4117",
   "metadata": {},
   "source": [
    "Além disso, é possível verificar a distribuição diferenciando clientes com **Churn** ou não. Aqui é possível verificar que ambos já utilizar o serviço pelo tempo máximo (72 meses), mas podendo verificar que clientes que desistiram utilizaram o serviço por menos tempo. Outro ponto interessante, é verificar que nenhum cliente com **tenure** de 0 meses desistiu do serviço, o que faz sentido, onde se faz lógico pensar que o serviço precisa ser utilizada para ser desistido. Para validar esta informação, será verificado a quantidade de clientes que possuem **tenure** igual a 0."
   ]
  },
  {
   "cell_type": "code",
   "execution_count": 20,
   "id": "78c0ed49",
   "metadata": {},
   "outputs": [
    {
     "data": {
      "text/html": [
       "<div>\n",
       "<style scoped>\n",
       "    .dataframe tbody tr th:only-of-type {\n",
       "        vertical-align: middle;\n",
       "    }\n",
       "\n",
       "    .dataframe tbody tr th {\n",
       "        vertical-align: top;\n",
       "    }\n",
       "\n",
       "    .dataframe thead th {\n",
       "        text-align: right;\n",
       "    }\n",
       "</style>\n",
       "<table border=\"1\" class=\"dataframe\">\n",
       "  <thead>\n",
       "    <tr style=\"text-align: right;\">\n",
       "      <th></th>\n",
       "      <th>customerID</th>\n",
       "      <th>gender</th>\n",
       "      <th>SeniorCitizen</th>\n",
       "      <th>Partner</th>\n",
       "      <th>Dependents</th>\n",
       "      <th>tenure</th>\n",
       "      <th>PhoneService</th>\n",
       "      <th>MultipleLines</th>\n",
       "      <th>InternetService</th>\n",
       "      <th>OnlineSecurity</th>\n",
       "      <th>OnlineBackup</th>\n",
       "      <th>DeviceProtection</th>\n",
       "      <th>TechSupport</th>\n",
       "      <th>StreamingTV</th>\n",
       "      <th>StreamingMovies</th>\n",
       "      <th>Contract</th>\n",
       "      <th>PaperlessBilling</th>\n",
       "      <th>PaymentMethod</th>\n",
       "      <th>MonthlyCharges</th>\n",
       "      <th>TotalCharges</th>\n",
       "      <th>Churn</th>\n",
       "    </tr>\n",
       "  </thead>\n",
       "  <tbody>\n",
       "    <tr>\n",
       "      <th>2531</th>\n",
       "      <td>5709-LVOEQ</td>\n",
       "      <td>Female</td>\n",
       "      <td>0.00</td>\n",
       "      <td>Yes</td>\n",
       "      <td>Yes</td>\n",
       "      <td>0.00</td>\n",
       "      <td>Yes</td>\n",
       "      <td>No</td>\n",
       "      <td>DSL</td>\n",
       "      <td>Yes</td>\n",
       "      <td>Yes</td>\n",
       "      <td>Yes</td>\n",
       "      <td>No</td>\n",
       "      <td>Yes</td>\n",
       "      <td>Yes</td>\n",
       "      <td>Two year</td>\n",
       "      <td>No</td>\n",
       "      <td>Mailed check</td>\n",
       "      <td>80.85</td>\n",
       "      <td>NaN</td>\n",
       "      <td>No</td>\n",
       "    </tr>\n",
       "    <tr>\n",
       "      <th>3343</th>\n",
       "      <td>4075-WKNIU</td>\n",
       "      <td>Female</td>\n",
       "      <td>0.00</td>\n",
       "      <td>Yes</td>\n",
       "      <td>Yes</td>\n",
       "      <td>0.00</td>\n",
       "      <td>Yes</td>\n",
       "      <td>Yes</td>\n",
       "      <td>DSL</td>\n",
       "      <td>No</td>\n",
       "      <td>Yes</td>\n",
       "      <td>Yes</td>\n",
       "      <td>Yes</td>\n",
       "      <td>Yes</td>\n",
       "      <td>No</td>\n",
       "      <td>Two year</td>\n",
       "      <td>No</td>\n",
       "      <td>Mailed check</td>\n",
       "      <td>73.35</td>\n",
       "      <td>NaN</td>\n",
       "      <td>No</td>\n",
       "    </tr>\n",
       "    <tr>\n",
       "      <th>4023</th>\n",
       "      <td>2775-SEFEE</td>\n",
       "      <td>Male</td>\n",
       "      <td>0.00</td>\n",
       "      <td>No</td>\n",
       "      <td>Yes</td>\n",
       "      <td>0.00</td>\n",
       "      <td>Yes</td>\n",
       "      <td>Yes</td>\n",
       "      <td>DSL</td>\n",
       "      <td>Yes</td>\n",
       "      <td>Yes</td>\n",
       "      <td>No</td>\n",
       "      <td>Yes</td>\n",
       "      <td>No</td>\n",
       "      <td>No</td>\n",
       "      <td>Two year</td>\n",
       "      <td>Yes</td>\n",
       "      <td>Bank transfer (automatic)</td>\n",
       "      <td>61.90</td>\n",
       "      <td>NaN</td>\n",
       "      <td>No</td>\n",
       "    </tr>\n",
       "    <tr>\n",
       "      <th>4315</th>\n",
       "      <td>1371-DWPAZ</td>\n",
       "      <td>Female</td>\n",
       "      <td>0.00</td>\n",
       "      <td>Yes</td>\n",
       "      <td>Yes</td>\n",
       "      <td>0.00</td>\n",
       "      <td>No</td>\n",
       "      <td>No phone service</td>\n",
       "      <td>DSL</td>\n",
       "      <td>Yes</td>\n",
       "      <td>Yes</td>\n",
       "      <td>Yes</td>\n",
       "      <td>Yes</td>\n",
       "      <td>Yes</td>\n",
       "      <td>No</td>\n",
       "      <td>Two year</td>\n",
       "      <td>No</td>\n",
       "      <td>Credit card (automatic)</td>\n",
       "      <td>56.05</td>\n",
       "      <td>NaN</td>\n",
       "      <td>No</td>\n",
       "    </tr>\n",
       "    <tr>\n",
       "      <th>4583</th>\n",
       "      <td>4472-LVYGI</td>\n",
       "      <td>Female</td>\n",
       "      <td>0.00</td>\n",
       "      <td>Yes</td>\n",
       "      <td>Yes</td>\n",
       "      <td>0.00</td>\n",
       "      <td>No</td>\n",
       "      <td>No phone service</td>\n",
       "      <td>DSL</td>\n",
       "      <td>Yes</td>\n",
       "      <td>No</td>\n",
       "      <td>Yes</td>\n",
       "      <td>Yes</td>\n",
       "      <td>Yes</td>\n",
       "      <td>No</td>\n",
       "      <td>Two year</td>\n",
       "      <td>Yes</td>\n",
       "      <td>Bank transfer (automatic)</td>\n",
       "      <td>52.55</td>\n",
       "      <td>NaN</td>\n",
       "      <td>No</td>\n",
       "    </tr>\n",
       "    <tr>\n",
       "      <th>5484</th>\n",
       "      <td>4367-NUYAO</td>\n",
       "      <td>Male</td>\n",
       "      <td>0.00</td>\n",
       "      <td>Yes</td>\n",
       "      <td>Yes</td>\n",
       "      <td>0.00</td>\n",
       "      <td>Yes</td>\n",
       "      <td>Yes</td>\n",
       "      <td>No</td>\n",
       "      <td>No internet service</td>\n",
       "      <td>No internet service</td>\n",
       "      <td>No internet service</td>\n",
       "      <td>No internet service</td>\n",
       "      <td>No internet service</td>\n",
       "      <td>No internet service</td>\n",
       "      <td>Two year</td>\n",
       "      <td>No</td>\n",
       "      <td>Mailed check</td>\n",
       "      <td>25.75</td>\n",
       "      <td>NaN</td>\n",
       "      <td>No</td>\n",
       "    </tr>\n",
       "    <tr>\n",
       "      <th>5549</th>\n",
       "      <td>3213-VVOLG</td>\n",
       "      <td>Male</td>\n",
       "      <td>0.00</td>\n",
       "      <td>Yes</td>\n",
       "      <td>Yes</td>\n",
       "      <td>0.00</td>\n",
       "      <td>Yes</td>\n",
       "      <td>Yes</td>\n",
       "      <td>No</td>\n",
       "      <td>No internet service</td>\n",
       "      <td>No internet service</td>\n",
       "      <td>No internet service</td>\n",
       "      <td>No internet service</td>\n",
       "      <td>No internet service</td>\n",
       "      <td>No internet service</td>\n",
       "      <td>Two year</td>\n",
       "      <td>No</td>\n",
       "      <td>Mailed check</td>\n",
       "      <td>25.35</td>\n",
       "      <td>NaN</td>\n",
       "      <td>No</td>\n",
       "    </tr>\n",
       "    <tr>\n",
       "      <th>6213</th>\n",
       "      <td>3115-CZMZD</td>\n",
       "      <td>Male</td>\n",
       "      <td>0.00</td>\n",
       "      <td>No</td>\n",
       "      <td>Yes</td>\n",
       "      <td>0.00</td>\n",
       "      <td>Yes</td>\n",
       "      <td>No</td>\n",
       "      <td>No</td>\n",
       "      <td>No internet service</td>\n",
       "      <td>No internet service</td>\n",
       "      <td>No internet service</td>\n",
       "      <td>No internet service</td>\n",
       "      <td>No internet service</td>\n",
       "      <td>No internet service</td>\n",
       "      <td>Two year</td>\n",
       "      <td>No</td>\n",
       "      <td>Mailed check</td>\n",
       "      <td>20.25</td>\n",
       "      <td>NaN</td>\n",
       "      <td>No</td>\n",
       "    </tr>\n",
       "    <tr>\n",
       "      <th>6429</th>\n",
       "      <td>2520-SGTTA</td>\n",
       "      <td>Female</td>\n",
       "      <td>0.00</td>\n",
       "      <td>Yes</td>\n",
       "      <td>Yes</td>\n",
       "      <td>0.00</td>\n",
       "      <td>Yes</td>\n",
       "      <td>No</td>\n",
       "      <td>No</td>\n",
       "      <td>No internet service</td>\n",
       "      <td>No internet service</td>\n",
       "      <td>No internet service</td>\n",
       "      <td>No internet service</td>\n",
       "      <td>No internet service</td>\n",
       "      <td>No internet service</td>\n",
       "      <td>Two year</td>\n",
       "      <td>No</td>\n",
       "      <td>Mailed check</td>\n",
       "      <td>20.00</td>\n",
       "      <td>NaN</td>\n",
       "      <td>No</td>\n",
       "    </tr>\n",
       "    <tr>\n",
       "      <th>6562</th>\n",
       "      <td>7644-OMVMY</td>\n",
       "      <td>Male</td>\n",
       "      <td>0.00</td>\n",
       "      <td>Yes</td>\n",
       "      <td>Yes</td>\n",
       "      <td>0.00</td>\n",
       "      <td>Yes</td>\n",
       "      <td>No</td>\n",
       "      <td>No</td>\n",
       "      <td>No internet service</td>\n",
       "      <td>No internet service</td>\n",
       "      <td>No internet service</td>\n",
       "      <td>No internet service</td>\n",
       "      <td>No internet service</td>\n",
       "      <td>No internet service</td>\n",
       "      <td>Two year</td>\n",
       "      <td>No</td>\n",
       "      <td>Mailed check</td>\n",
       "      <td>19.85</td>\n",
       "      <td>NaN</td>\n",
       "      <td>No</td>\n",
       "    </tr>\n",
       "    <tr>\n",
       "      <th>6682</th>\n",
       "      <td>2923-ARZLG</td>\n",
       "      <td>Male</td>\n",
       "      <td>0.00</td>\n",
       "      <td>Yes</td>\n",
       "      <td>Yes</td>\n",
       "      <td>0.00</td>\n",
       "      <td>Yes</td>\n",
       "      <td>No</td>\n",
       "      <td>No</td>\n",
       "      <td>No internet service</td>\n",
       "      <td>No internet service</td>\n",
       "      <td>No internet service</td>\n",
       "      <td>No internet service</td>\n",
       "      <td>No internet service</td>\n",
       "      <td>No internet service</td>\n",
       "      <td>One year</td>\n",
       "      <td>Yes</td>\n",
       "      <td>Mailed check</td>\n",
       "      <td>19.70</td>\n",
       "      <td>NaN</td>\n",
       "      <td>No</td>\n",
       "    </tr>\n",
       "  </tbody>\n",
       "</table>\n",
       "</div>"
      ],
      "text/plain": [
       "      customerID  gender  SeniorCitizen Partner Dependents  tenure  \\\n",
       "2531  5709-LVOEQ  Female           0.00     Yes        Yes    0.00   \n",
       "3343  4075-WKNIU  Female           0.00     Yes        Yes    0.00   \n",
       "4023  2775-SEFEE    Male           0.00      No        Yes    0.00   \n",
       "4315  1371-DWPAZ  Female           0.00     Yes        Yes    0.00   \n",
       "4583  4472-LVYGI  Female           0.00     Yes        Yes    0.00   \n",
       "5484  4367-NUYAO    Male           0.00     Yes        Yes    0.00   \n",
       "5549  3213-VVOLG    Male           0.00     Yes        Yes    0.00   \n",
       "6213  3115-CZMZD    Male           0.00      No        Yes    0.00   \n",
       "6429  2520-SGTTA  Female           0.00     Yes        Yes    0.00   \n",
       "6562  7644-OMVMY    Male           0.00     Yes        Yes    0.00   \n",
       "6682  2923-ARZLG    Male           0.00     Yes        Yes    0.00   \n",
       "\n",
       "     PhoneService     MultipleLines InternetService       OnlineSecurity  \\\n",
       "2531          Yes                No             DSL                  Yes   \n",
       "3343          Yes               Yes             DSL                   No   \n",
       "4023          Yes               Yes             DSL                  Yes   \n",
       "4315           No  No phone service             DSL                  Yes   \n",
       "4583           No  No phone service             DSL                  Yes   \n",
       "5484          Yes               Yes              No  No internet service   \n",
       "5549          Yes               Yes              No  No internet service   \n",
       "6213          Yes                No              No  No internet service   \n",
       "6429          Yes                No              No  No internet service   \n",
       "6562          Yes                No              No  No internet service   \n",
       "6682          Yes                No              No  No internet service   \n",
       "\n",
       "             OnlineBackup     DeviceProtection          TechSupport  \\\n",
       "2531                  Yes                  Yes                   No   \n",
       "3343                  Yes                  Yes                  Yes   \n",
       "4023                  Yes                   No                  Yes   \n",
       "4315                  Yes                  Yes                  Yes   \n",
       "4583                   No                  Yes                  Yes   \n",
       "5484  No internet service  No internet service  No internet service   \n",
       "5549  No internet service  No internet service  No internet service   \n",
       "6213  No internet service  No internet service  No internet service   \n",
       "6429  No internet service  No internet service  No internet service   \n",
       "6562  No internet service  No internet service  No internet service   \n",
       "6682  No internet service  No internet service  No internet service   \n",
       "\n",
       "              StreamingTV      StreamingMovies  Contract PaperlessBilling  \\\n",
       "2531                  Yes                  Yes  Two year               No   \n",
       "3343                  Yes                   No  Two year               No   \n",
       "4023                   No                   No  Two year              Yes   \n",
       "4315                  Yes                   No  Two year               No   \n",
       "4583                  Yes                   No  Two year              Yes   \n",
       "5484  No internet service  No internet service  Two year               No   \n",
       "5549  No internet service  No internet service  Two year               No   \n",
       "6213  No internet service  No internet service  Two year               No   \n",
       "6429  No internet service  No internet service  Two year               No   \n",
       "6562  No internet service  No internet service  Two year               No   \n",
       "6682  No internet service  No internet service  One year              Yes   \n",
       "\n",
       "                  PaymentMethod  MonthlyCharges  TotalCharges Churn  \n",
       "2531               Mailed check           80.85           NaN    No  \n",
       "3343               Mailed check           73.35           NaN    No  \n",
       "4023  Bank transfer (automatic)           61.90           NaN    No  \n",
       "4315    Credit card (automatic)           56.05           NaN    No  \n",
       "4583  Bank transfer (automatic)           52.55           NaN    No  \n",
       "5484               Mailed check           25.75           NaN    No  \n",
       "5549               Mailed check           25.35           NaN    No  \n",
       "6213               Mailed check           20.25           NaN    No  \n",
       "6429               Mailed check           20.00           NaN    No  \n",
       "6562               Mailed check           19.85           NaN    No  \n",
       "6682               Mailed check           19.70           NaN    No  "
      ]
     },
     "execution_count": 20,
     "metadata": {},
     "output_type": "execute_result"
    }
   ],
   "source": [
    "data[data['tenure'] == 0]"
   ]
  },
  {
   "cell_type": "markdown",
   "id": "9458910d",
   "metadata": {},
   "source": [
    "Outro ponto interessante é que todos os clientes com 0 meses de serviço possuem **totalCharges** como nulo, indicando que essa informação provavelmente utiliza o valor de **tenure** para calcular o valor."
   ]
  },
  {
   "cell_type": "markdown",
   "id": "7f42ef95",
   "metadata": {},
   "source": [
    "Um avaliação de se fazer é através de um histograma da informação, verificando a porcentagem de dados em certos intervalos de informação, avaliando a quantidade de clientes de **Churn** contra os que ainda estão no serviço."
   ]
  },
  {
   "cell_type": "code",
   "execution_count": 21,
   "id": "4f3e8b88",
   "metadata": {},
   "outputs": [
    {
     "data": {
      "image/png": "[encoded data removed]",
      "text/plain": [
       "<Figure size 1080x720 with 1 Axes>"
      ]
     },
     "metadata": {},
     "output_type": "display_data"
    }
   ],
   "source": [
    "sns.histplot(data=data, x='tenure', hue='Churn',\n",
    "             stat='probability', common_norm=False)\n",
    "\n",
    "plt.title('Histograma de tenure')\n",
    "plt.xlabel('tenure')\n",
    "plt.ylabel('Porcentagem')\n",
    "plt.show()"
   ]
  },
  {
   "cell_type": "markdown",
   "id": "2d8d21c0",
   "metadata": {},
   "source": [
    "Aqui podemos validar uma informação bem comum em cálculos de **taxa de Churn**, onde a probabilidade de churn é **inversamente proporcional** ao tempo de utilização do serviço. Em outras palavras, podemos verificar que a chance de um cliente abandonar o serviço é maior nos primeiros meses de uso, sendo mais provavél que o mesmo siga com o serviço com o passar dos meses."
   ]
  },
  {
   "cell_type": "markdown",
   "id": "399ea8ee",
   "metadata": {},
   "source": [
    "## **PhoneService**\n",
    "\n",
    "Flag indicando se o cliente possuí o serviço de telefone."
   ]
  },
  {
   "cell_type": "markdown",
   "id": "4d54a070",
   "metadata": {},
   "source": [
    "Através da nomenclatura usada para definir o atributo, é possível supôr que a mesma indica a *string* $Yes$ para um cliente que possui o serviço de telefone e $No$ em caso contrário."
   ]
  },
  {
   "cell_type": "code",
   "execution_count": 22,
   "id": "97fed680",
   "metadata": {},
   "outputs": [
    {
     "data": {
      "text/html": [
       "<div>\n",
       "<style scoped>\n",
       "    .dataframe tbody tr th:only-of-type {\n",
       "        vertical-align: middle;\n",
       "    }\n",
       "\n",
       "    .dataframe tbody tr th {\n",
       "        vertical-align: top;\n",
       "    }\n",
       "\n",
       "    .dataframe thead th {\n",
       "        text-align: right;\n",
       "    }\n",
       "</style>\n",
       "<table border=\"1\" class=\"dataframe\">\n",
       "  <thead>\n",
       "    <tr style=\"text-align: right;\">\n",
       "      <th></th>\n",
       "      <th>Quantidade</th>\n",
       "      <th>Porcentagem</th>\n",
       "      <th>Churn</th>\n",
       "      <th>Churn (%)</th>\n",
       "    </tr>\n",
       "    <tr>\n",
       "      <th>Valor</th>\n",
       "      <th></th>\n",
       "      <th></th>\n",
       "      <th></th>\n",
       "      <th></th>\n",
       "    </tr>\n",
       "  </thead>\n",
       "  <tbody>\n",
       "    <tr>\n",
       "      <th>Yes</th>\n",
       "      <td>6361</td>\n",
       "      <td>90.32</td>\n",
       "      <td>1699</td>\n",
       "      <td>26.71</td>\n",
       "    </tr>\n",
       "    <tr>\n",
       "      <th>No</th>\n",
       "      <td>682</td>\n",
       "      <td>9.68</td>\n",
       "      <td>170</td>\n",
       "      <td>24.93</td>\n",
       "    </tr>\n",
       "  </tbody>\n",
       "</table>\n",
       "</div>"
      ],
      "text/plain": [
       "       Quantidade  Porcentagem  Churn  Churn (%)\n",
       "Valor                                           \n",
       "Yes          6361        90.32   1699      26.71\n",
       "No            682         9.68    170      24.93"
      ]
     },
     "execution_count": 22,
     "metadata": {},
     "output_type": "execute_result"
    }
   ],
   "source": [
    "value_counts_churn(data, 'PhoneService')"
   ]
  },
  {
   "cell_type": "markdown",
   "id": "b68e1d48",
   "metadata": {},
   "source": [
    "Aqui podemos verificar que a grande maioria dos clientes utiliza o serviço de telefone, onde apenas 10% **não utilizam esse serviço**. Além disso, a **taxa de churn** segue a mesma proporção em ambas categorias, indicando que esta informação sozinha **não indica** se o cliente irá desistir do serviço."
   ]
  },
  {
   "cell_type": "markdown",
   "id": "4d2e2f49",
   "metadata": {},
   "source": [
    "## **MultipleLines**\n",
    "\n",
    "Indicação se o cliente tem múltiplas linhas telefônicas."
   ]
  },
  {
   "cell_type": "markdown",
   "id": "dc1be03d",
   "metadata": {},
   "source": [
    "Através da nomenclatura usada para definir o atributo, é possível verificar que o atributo possuí **3 valores possíveis**, sendo eles **No** (Não possuí múltiplas linhas telefônicas), **Yes** (Possuí múltiplas linhas telefônicas) e **No phone service** (não possuí serviço telefônico)."
   ]
  },
  {
   "cell_type": "code",
   "execution_count": 23,
   "id": "458d7251",
   "metadata": {},
   "outputs": [
    {
     "data": {
      "text/html": [
       "<div>\n",
       "<style scoped>\n",
       "    .dataframe tbody tr th:only-of-type {\n",
       "        vertical-align: middle;\n",
       "    }\n",
       "\n",
       "    .dataframe tbody tr th {\n",
       "        vertical-align: top;\n",
       "    }\n",
       "\n",
       "    .dataframe thead th {\n",
       "        text-align: right;\n",
       "    }\n",
       "</style>\n",
       "<table border=\"1\" class=\"dataframe\">\n",
       "  <thead>\n",
       "    <tr style=\"text-align: right;\">\n",
       "      <th></th>\n",
       "      <th>Quantidade</th>\n",
       "      <th>Porcentagem</th>\n",
       "      <th>Churn</th>\n",
       "      <th>Churn (%)</th>\n",
       "    </tr>\n",
       "    <tr>\n",
       "      <th>Valor</th>\n",
       "      <th></th>\n",
       "      <th></th>\n",
       "      <th></th>\n",
       "      <th></th>\n",
       "    </tr>\n",
       "  </thead>\n",
       "  <tbody>\n",
       "    <tr>\n",
       "      <th>No</th>\n",
       "      <td>3390</td>\n",
       "      <td>48.13</td>\n",
       "      <td>849</td>\n",
       "      <td>25.04</td>\n",
       "    </tr>\n",
       "    <tr>\n",
       "      <th>Yes</th>\n",
       "      <td>2971</td>\n",
       "      <td>42.18</td>\n",
       "      <td>850</td>\n",
       "      <td>28.61</td>\n",
       "    </tr>\n",
       "    <tr>\n",
       "      <th>No phone service</th>\n",
       "      <td>682</td>\n",
       "      <td>9.68</td>\n",
       "      <td>170</td>\n",
       "      <td>24.93</td>\n",
       "    </tr>\n",
       "  </tbody>\n",
       "</table>\n",
       "</div>"
      ],
      "text/plain": [
       "                  Quantidade  Porcentagem  Churn  Churn (%)\n",
       "Valor                                                      \n",
       "No                      3390        48.13    849      25.04\n",
       "Yes                     2971        42.18    850      28.61\n",
       "No phone service         682         9.68    170      24.93"
      ]
     },
     "execution_count": 23,
     "metadata": {},
     "output_type": "execute_result"
    }
   ],
   "source": [
    "value_counts_churn(data, 'MultipleLines')"
   ]
  },
  {
   "cell_type": "markdown",
   "id": "4c352224",
   "metadata": {},
   "source": [
    "Aqui o comportamento segue bem próximo da variável **PhoneService**, onde todos os valores possuem uma **taxa de churn** bem próximas, tendo apenas um leve aumento nos clientes que possuem multiplas linhas telefônicas. Além disso, é válido avaliar o agrupamento das informações de **Não tem múltiplas linhas** com **Não tem serviço de telefone**, pois ambas podem indicar um comportamento parecido, além de já ter uma colunas indicando o serviço de telefone."
   ]
  },
  {
   "cell_type": "code",
   "execution_count": 24,
   "id": "76f9ec7f",
   "metadata": {},
   "outputs": [
    {
     "data": {
      "text/plain": [
       "25.02"
      ]
     },
     "execution_count": 24,
     "metadata": {},
     "output_type": "execute_result"
    }
   ],
   "source": [
    "new_total = 3390 + 682 # Quantidade total de 'No' e 'No phone service'\n",
    "new_churn = 849 + 170 # Quantidade de churn de 'No' e 'No phone service'\n",
    "\n",
    "round(100 * new_churn / new_total, 2)"
   ]
  },
  {
   "cell_type": "markdown",
   "id": "7a0a7e6f",
   "metadata": {},
   "source": [
    "## **InternetService**\n",
    "\n",
    "Indica o tipo de serviço que o cliente possuí."
   ]
  },
  {
   "cell_type": "markdown",
   "id": "e1efc469",
   "metadata": {},
   "source": [
    "Através da nomenclatura usada para definir o atributo, é possível verificar que o atributo possuí **3 valores possíveis**, sendo eles **No** (Não possuí serviço de internet), **DSL** e **Fiber optic**. Aqui é possível verificar o serviço de internet que o cliente utiliza (se tiver serviço de internet)."
   ]
  },
  {
   "cell_type": "code",
   "execution_count": 25,
   "id": "2c9da586",
   "metadata": {},
   "outputs": [
    {
     "data": {
      "text/html": [
       "<div>\n",
       "<style scoped>\n",
       "    .dataframe tbody tr th:only-of-type {\n",
       "        vertical-align: middle;\n",
       "    }\n",
       "\n",
       "    .dataframe tbody tr th {\n",
       "        vertical-align: top;\n",
       "    }\n",
       "\n",
       "    .dataframe thead th {\n",
       "        text-align: right;\n",
       "    }\n",
       "</style>\n",
       "<table border=\"1\" class=\"dataframe\">\n",
       "  <thead>\n",
       "    <tr style=\"text-align: right;\">\n",
       "      <th></th>\n",
       "      <th>Quantidade</th>\n",
       "      <th>Porcentagem</th>\n",
       "      <th>Churn</th>\n",
       "      <th>Churn (%)</th>\n",
       "    </tr>\n",
       "    <tr>\n",
       "      <th>Valor</th>\n",
       "      <th></th>\n",
       "      <th></th>\n",
       "      <th></th>\n",
       "      <th></th>\n",
       "    </tr>\n",
       "  </thead>\n",
       "  <tbody>\n",
       "    <tr>\n",
       "      <th>Fiber optic</th>\n",
       "      <td>3096</td>\n",
       "      <td>43.96</td>\n",
       "      <td>1297</td>\n",
       "      <td>41.89</td>\n",
       "    </tr>\n",
       "    <tr>\n",
       "      <th>DSL</th>\n",
       "      <td>2421</td>\n",
       "      <td>34.37</td>\n",
       "      <td>459</td>\n",
       "      <td>18.96</td>\n",
       "    </tr>\n",
       "    <tr>\n",
       "      <th>No</th>\n",
       "      <td>1526</td>\n",
       "      <td>21.67</td>\n",
       "      <td>113</td>\n",
       "      <td>7.40</td>\n",
       "    </tr>\n",
       "  </tbody>\n",
       "</table>\n",
       "</div>"
      ],
      "text/plain": [
       "             Quantidade  Porcentagem  Churn  Churn (%)\n",
       "Valor                                                 \n",
       "Fiber optic        3096        43.96   1297      41.89\n",
       "DSL                2421        34.37    459      18.96\n",
       "No                 1526        21.67    113       7.40"
      ]
     },
     "execution_count": 25,
     "metadata": {},
     "output_type": "execute_result"
    }
   ],
   "source": [
    "value_counts_churn(data, 'InternetService')"
   ]
  },
  {
   "cell_type": "markdown",
   "id": "5af0da8c",
   "metadata": {},
   "source": [
    "Aqui podemos encontrar diferenças grandes nos diferentes tipos de serviço, onde clientes que não tem serviço de internet tem uma chance muito menor de desistir do serviço. Em comparação aos dois serviços disponíveis, o **DSL** é um serviço de internet que utiliza redes móveis, sendo bem possível que sejam clientes que usem internet apenas no celular. Já a **Fiber optic** (Fibra Óptica) apresenta um serviço de internet bem mais rápido, utilizado em residências, e que também possuí a maior **taxa de churn** em quase 42%. Esta informação leva a crer que quanto melhor o serviço de internet do cliente, maior a chance do mesmo desistir do serviço, aqui parece ter uma informação de destaque importante, junto da indicação de um cliente **idoso** e que é importante deixar em destaque em análises mais complexas."
   ]
  },
  {
   "cell_type": "markdown",
   "id": "03d599dc",
   "metadata": {},
   "source": [
    "## **OnlineSecurity**\n",
    "\n",
    "Indica se o cliente possuí um serviço de segurança online."
   ]
  },
  {
   "cell_type": "markdown",
   "id": "e8ed1e0e",
   "metadata": {},
   "source": [
    "Através da nomenclatura usada para definir o atributo, é possível verificar que o atributo possuí **3 valores possíveis**, sendo eles **No** (Não possuí segurança online), **Yes** (Possuí segurança online) e **No internet service** (Não possuí serviço de internet). Aqui é possível verificar que a informação sobre serviço de internet é a mesma de ter um **No** na variável **Internet Service**."
   ]
  },
  {
   "cell_type": "code",
   "execution_count": 26,
   "id": "d888d791",
   "metadata": {},
   "outputs": [
    {
     "data": {
      "text/html": [
       "<div>\n",
       "<style scoped>\n",
       "    .dataframe tbody tr th:only-of-type {\n",
       "        vertical-align: middle;\n",
       "    }\n",
       "\n",
       "    .dataframe tbody tr th {\n",
       "        vertical-align: top;\n",
       "    }\n",
       "\n",
       "    .dataframe thead th {\n",
       "        text-align: right;\n",
       "    }\n",
       "</style>\n",
       "<table border=\"1\" class=\"dataframe\">\n",
       "  <thead>\n",
       "    <tr style=\"text-align: right;\">\n",
       "      <th></th>\n",
       "      <th>Quantidade</th>\n",
       "      <th>Porcentagem</th>\n",
       "      <th>Churn</th>\n",
       "      <th>Churn (%)</th>\n",
       "    </tr>\n",
       "    <tr>\n",
       "      <th>Valor</th>\n",
       "      <th></th>\n",
       "      <th></th>\n",
       "      <th></th>\n",
       "      <th></th>\n",
       "    </tr>\n",
       "  </thead>\n",
       "  <tbody>\n",
       "    <tr>\n",
       "      <th>No</th>\n",
       "      <td>3498</td>\n",
       "      <td>49.67</td>\n",
       "      <td>1461</td>\n",
       "      <td>41.77</td>\n",
       "    </tr>\n",
       "    <tr>\n",
       "      <th>Yes</th>\n",
       "      <td>2019</td>\n",
       "      <td>28.67</td>\n",
       "      <td>295</td>\n",
       "      <td>14.61</td>\n",
       "    </tr>\n",
       "    <tr>\n",
       "      <th>No internet service</th>\n",
       "      <td>1526</td>\n",
       "      <td>21.67</td>\n",
       "      <td>113</td>\n",
       "      <td>7.40</td>\n",
       "    </tr>\n",
       "  </tbody>\n",
       "</table>\n",
       "</div>"
      ],
      "text/plain": [
       "                     Quantidade  Porcentagem  Churn  Churn (%)\n",
       "Valor                                                         \n",
       "No                         3498        49.67   1461      41.77\n",
       "Yes                        2019        28.67    295      14.61\n",
       "No internet service        1526        21.67    113       7.40"
      ]
     },
     "execution_count": 26,
     "metadata": {},
     "output_type": "execute_result"
    }
   ],
   "source": [
    "value_counts_churn(data, 'OnlineSecurity')"
   ]
  },
  {
   "cell_type": "markdown",
   "id": "832c210b",
   "metadata": {},
   "source": [
    "Como dito anteriormente, é possível verificar que a indicação de **No internet service** segue a mesma distribuição do valor **No** em **InternetService**, sendo não necessário comparar tal valor novamente. Já verificando as informações referentes diretamente ao serviço de **segurança online**, podemos avaliar que a **falta desse serviço** leva a um aumento na **taxa de churn**, chegando a quase 42% dos clientes. \n",
    "\n",
    "Aqui podemos verificar claramente que a segurança online é algo que mantém os clientes ao serviço, sendo interessante tentar adicionar essa possibilidade para todos os clientes, mas além disso, tentar verificar o que junto da **falta de segurança** pode levar os clientes a desistirem do serviço."
   ]
  },
  {
   "cell_type": "markdown",
   "id": "8544e43c",
   "metadata": {},
   "source": [
    "## **OnlineBackup**\n",
    "\n",
    "Indica se o cliente possuí um serviço de *backup* online."
   ]
  },
  {
   "cell_type": "markdown",
   "id": "51728467",
   "metadata": {},
   "source": [
    "Através da nomenclatura usada para definir o atributo, é possível verificar que o atributo possuí **3 valores possíveis**, sendo eles **No** (Não possuí *backup* online), **Yes** (Possuí *backup* online) e **No internet service** (Não possuí serviço de internet). Aqui é possível verificar que a informação sobre serviço de internet é a mesma de ter um **No** na variável **Internet Service**."
   ]
  },
  {
   "cell_type": "code",
   "execution_count": 27,
   "id": "c8790676",
   "metadata": {},
   "outputs": [
    {
     "data": {
      "text/html": [
       "<div>\n",
       "<style scoped>\n",
       "    .dataframe tbody tr th:only-of-type {\n",
       "        vertical-align: middle;\n",
       "    }\n",
       "\n",
       "    .dataframe tbody tr th {\n",
       "        vertical-align: top;\n",
       "    }\n",
       "\n",
       "    .dataframe thead th {\n",
       "        text-align: right;\n",
       "    }\n",
       "</style>\n",
       "<table border=\"1\" class=\"dataframe\">\n",
       "  <thead>\n",
       "    <tr style=\"text-align: right;\">\n",
       "      <th></th>\n",
       "      <th>Quantidade</th>\n",
       "      <th>Porcentagem</th>\n",
       "      <th>Churn</th>\n",
       "      <th>Churn (%)</th>\n",
       "    </tr>\n",
       "    <tr>\n",
       "      <th>Valor</th>\n",
       "      <th></th>\n",
       "      <th></th>\n",
       "      <th></th>\n",
       "      <th></th>\n",
       "    </tr>\n",
       "  </thead>\n",
       "  <tbody>\n",
       "    <tr>\n",
       "      <th>No</th>\n",
       "      <td>3088</td>\n",
       "      <td>43.84</td>\n",
       "      <td>1233</td>\n",
       "      <td>39.93</td>\n",
       "    </tr>\n",
       "    <tr>\n",
       "      <th>Yes</th>\n",
       "      <td>2429</td>\n",
       "      <td>34.49</td>\n",
       "      <td>523</td>\n",
       "      <td>21.53</td>\n",
       "    </tr>\n",
       "    <tr>\n",
       "      <th>No internet service</th>\n",
       "      <td>1526</td>\n",
       "      <td>21.67</td>\n",
       "      <td>113</td>\n",
       "      <td>7.40</td>\n",
       "    </tr>\n",
       "  </tbody>\n",
       "</table>\n",
       "</div>"
      ],
      "text/plain": [
       "                     Quantidade  Porcentagem  Churn  Churn (%)\n",
       "Valor                                                         \n",
       "No                         3088        43.84   1233      39.93\n",
       "Yes                        2429        34.49    523      21.53\n",
       "No internet service        1526        21.67    113       7.40"
      ]
     },
     "execution_count": 27,
     "metadata": {},
     "output_type": "execute_result"
    }
   ],
   "source": [
    "value_counts_churn(data, 'OnlineBackup')"
   ]
  },
  {
   "cell_type": "markdown",
   "id": "47a0e8f7",
   "metadata": {},
   "source": [
    "Verificando as informações referentes diretamente ao serviço de **backup online**, podemos avaliar que a **falta desse serviço** leva a um aumento na **taxa de churn**, chegando a quase 40% dos clientes. \n",
    "\n",
    "Assim como a **segurança online**, a falta de **backup** leva um aumento da desistência do serviço. Aqui já podemos verificar que quanto mais completo é o **serviço de internet** da pessoa, menores são as chances dela desistir do serviço."
   ]
  },
  {
   "cell_type": "markdown",
   "id": "0b923880",
   "metadata": {},
   "source": [
    "## **DeviceProtection**\n",
    "\n",
    "Indica se o cliente possuí um serviço de proteção de dispositivos."
   ]
  },
  {
   "cell_type": "markdown",
   "id": "4d1feb46",
   "metadata": {},
   "source": [
    "Através da nomenclatura usada para definir o atributo, é possível verificar que o atributo possuí **3 valores possíveis**, sendo eles **No** (Não possuí proteção de dispositivos), **Yes** (Possuí proteção de dispositivos) e **No internet service** (Não possuí serviço de internet). Aqui é possível verificar que a informação sobre serviço de internet é a mesma de ter um **No** na variável **Internet Service**."
   ]
  },
  {
   "cell_type": "code",
   "execution_count": 28,
   "id": "8c5725fb",
   "metadata": {},
   "outputs": [
    {
     "data": {
      "text/html": [
       "<div>\n",
       "<style scoped>\n",
       "    .dataframe tbody tr th:only-of-type {\n",
       "        vertical-align: middle;\n",
       "    }\n",
       "\n",
       "    .dataframe tbody tr th {\n",
       "        vertical-align: top;\n",
       "    }\n",
       "\n",
       "    .dataframe thead th {\n",
       "        text-align: right;\n",
       "    }\n",
       "</style>\n",
       "<table border=\"1\" class=\"dataframe\">\n",
       "  <thead>\n",
       "    <tr style=\"text-align: right;\">\n",
       "      <th></th>\n",
       "      <th>Quantidade</th>\n",
       "      <th>Porcentagem</th>\n",
       "      <th>Churn</th>\n",
       "      <th>Churn (%)</th>\n",
       "    </tr>\n",
       "    <tr>\n",
       "      <th>Valor</th>\n",
       "      <th></th>\n",
       "      <th></th>\n",
       "      <th></th>\n",
       "      <th></th>\n",
       "    </tr>\n",
       "  </thead>\n",
       "  <tbody>\n",
       "    <tr>\n",
       "      <th>No</th>\n",
       "      <td>3095</td>\n",
       "      <td>43.94</td>\n",
       "      <td>1211</td>\n",
       "      <td>39.13</td>\n",
       "    </tr>\n",
       "    <tr>\n",
       "      <th>Yes</th>\n",
       "      <td>2422</td>\n",
       "      <td>34.39</td>\n",
       "      <td>545</td>\n",
       "      <td>22.50</td>\n",
       "    </tr>\n",
       "    <tr>\n",
       "      <th>No internet service</th>\n",
       "      <td>1526</td>\n",
       "      <td>21.67</td>\n",
       "      <td>113</td>\n",
       "      <td>7.40</td>\n",
       "    </tr>\n",
       "  </tbody>\n",
       "</table>\n",
       "</div>"
      ],
      "text/plain": [
       "                     Quantidade  Porcentagem  Churn  Churn (%)\n",
       "Valor                                                         \n",
       "No                         3095        43.94   1211      39.13\n",
       "Yes                        2422        34.39    545      22.50\n",
       "No internet service        1526        21.67    113       7.40"
      ]
     },
     "execution_count": 28,
     "metadata": {},
     "output_type": "execute_result"
    }
   ],
   "source": [
    "value_counts_churn(data, 'DeviceProtection')"
   ]
  },
  {
   "cell_type": "markdown",
   "id": "f8611a0f",
   "metadata": {},
   "source": [
    "Aqui é possível verificar que o comportamento continua, onde a falta de um serviço aumenta a **taxa de churn** dos clientes. Seguindo essa análise, é possível criar a hipótese que quanto mais completo é o serviço, menores as chances de desistência, pois os clientes podem já estar certo do que precisam ou verificarem que essas adições realmente valem a pena. **(Essa hipótese será validada nas próximas etapas do projeto)**"
   ]
  },
  {
   "cell_type": "markdown",
   "id": "97c9bcc5",
   "metadata": {},
   "source": [
    "## **TechSupport**\n",
    "\n",
    "Indica se o cliente possuí um serviço de suporte técnico."
   ]
  },
  {
   "cell_type": "markdown",
   "id": "fed32de2",
   "metadata": {},
   "source": [
    "Através da nomenclatura usada para definir o atributo, é possível verificar que o atributo possuí **3 valores possíveis**, sendo eles **No** (Não possuí suporte técnico), **Yes** (Possuí suporte técnico) e **No internet service** (Não possuí serviço de internet). Aqui é possível verificar que a informação sobre serviço de internet é a mesma de ter um **No** na variável **Internet Service**."
   ]
  },
  {
   "cell_type": "code",
   "execution_count": 29,
   "id": "99efa448",
   "metadata": {},
   "outputs": [
    {
     "data": {
      "text/html": [
       "<div>\n",
       "<style scoped>\n",
       "    .dataframe tbody tr th:only-of-type {\n",
       "        vertical-align: middle;\n",
       "    }\n",
       "\n",
       "    .dataframe tbody tr th {\n",
       "        vertical-align: top;\n",
       "    }\n",
       "\n",
       "    .dataframe thead th {\n",
       "        text-align: right;\n",
       "    }\n",
       "</style>\n",
       "<table border=\"1\" class=\"dataframe\">\n",
       "  <thead>\n",
       "    <tr style=\"text-align: right;\">\n",
       "      <th></th>\n",
       "      <th>Quantidade</th>\n",
       "      <th>Porcentagem</th>\n",
       "      <th>Churn</th>\n",
       "      <th>Churn (%)</th>\n",
       "    </tr>\n",
       "    <tr>\n",
       "      <th>Valor</th>\n",
       "      <th></th>\n",
       "      <th></th>\n",
       "      <th></th>\n",
       "      <th></th>\n",
       "    </tr>\n",
       "  </thead>\n",
       "  <tbody>\n",
       "    <tr>\n",
       "      <th>No</th>\n",
       "      <td>3473</td>\n",
       "      <td>49.31</td>\n",
       "      <td>1446</td>\n",
       "      <td>41.64</td>\n",
       "    </tr>\n",
       "    <tr>\n",
       "      <th>Yes</th>\n",
       "      <td>2044</td>\n",
       "      <td>29.02</td>\n",
       "      <td>310</td>\n",
       "      <td>15.17</td>\n",
       "    </tr>\n",
       "    <tr>\n",
       "      <th>No internet service</th>\n",
       "      <td>1526</td>\n",
       "      <td>21.67</td>\n",
       "      <td>113</td>\n",
       "      <td>7.40</td>\n",
       "    </tr>\n",
       "  </tbody>\n",
       "</table>\n",
       "</div>"
      ],
      "text/plain": [
       "                     Quantidade  Porcentagem  Churn  Churn (%)\n",
       "Valor                                                         \n",
       "No                         3473        49.31   1446      41.64\n",
       "Yes                        2044        29.02    310      15.17\n",
       "No internet service        1526        21.67    113       7.40"
      ]
     },
     "execution_count": 29,
     "metadata": {},
     "output_type": "execute_result"
    }
   ],
   "source": [
    "value_counts_churn(data, 'TechSupport')"
   ]
  },
  {
   "cell_type": "markdown",
   "id": "cea6b85d",
   "metadata": {},
   "source": [
    "Novamente é possível verificar o mesmo comportamento, a falta do suporte técnico aumenta em muito a **taxa de churn** dos clientes, tendo um aumento de 15% para quase 42% de chance de cancelamento do serviço."
   ]
  },
  {
   "cell_type": "markdown",
   "id": "d66c2be4",
   "metadata": {},
   "source": [
    "## **StreamingTV**\n",
    "\n",
    "Indica se o cliente possuí um serviço de streaming de TV."
   ]
  },
  {
   "cell_type": "markdown",
   "id": "bc41216f",
   "metadata": {},
   "source": [
    "Através da nomenclatura usada para definir o atributo, é possível verificar que o atributo possuí **3 valores possíveis**, sendo eles **No** (Não possuí streaming de TV), **Yes** (Possuí streaming de TV) e **No internet service** (Não possuí serviço de internet). Aqui é possível verificar que a informação sobre serviço de internet é a mesma de ter um **No** na variável **Internet Service**."
   ]
  },
  {
   "cell_type": "code",
   "execution_count": 30,
   "id": "c696f155",
   "metadata": {},
   "outputs": [
    {
     "data": {
      "text/html": [
       "<div>\n",
       "<style scoped>\n",
       "    .dataframe tbody tr th:only-of-type {\n",
       "        vertical-align: middle;\n",
       "    }\n",
       "\n",
       "    .dataframe tbody tr th {\n",
       "        vertical-align: top;\n",
       "    }\n",
       "\n",
       "    .dataframe thead th {\n",
       "        text-align: right;\n",
       "    }\n",
       "</style>\n",
       "<table border=\"1\" class=\"dataframe\">\n",
       "  <thead>\n",
       "    <tr style=\"text-align: right;\">\n",
       "      <th></th>\n",
       "      <th>Quantidade</th>\n",
       "      <th>Porcentagem</th>\n",
       "      <th>Churn</th>\n",
       "      <th>Churn (%)</th>\n",
       "    </tr>\n",
       "    <tr>\n",
       "      <th>Valor</th>\n",
       "      <th></th>\n",
       "      <th></th>\n",
       "      <th></th>\n",
       "      <th></th>\n",
       "    </tr>\n",
       "  </thead>\n",
       "  <tbody>\n",
       "    <tr>\n",
       "      <th>No</th>\n",
       "      <td>2810</td>\n",
       "      <td>39.90</td>\n",
       "      <td>942</td>\n",
       "      <td>33.52</td>\n",
       "    </tr>\n",
       "    <tr>\n",
       "      <th>Yes</th>\n",
       "      <td>2707</td>\n",
       "      <td>38.44</td>\n",
       "      <td>814</td>\n",
       "      <td>30.07</td>\n",
       "    </tr>\n",
       "    <tr>\n",
       "      <th>No internet service</th>\n",
       "      <td>1526</td>\n",
       "      <td>21.67</td>\n",
       "      <td>113</td>\n",
       "      <td>7.40</td>\n",
       "    </tr>\n",
       "  </tbody>\n",
       "</table>\n",
       "</div>"
      ],
      "text/plain": [
       "                     Quantidade  Porcentagem  Churn  Churn (%)\n",
       "Valor                                                         \n",
       "No                         2810        39.90    942      33.52\n",
       "Yes                        2707        38.44    814      30.07\n",
       "No internet service        1526        21.67    113       7.40"
      ]
     },
     "execution_count": 30,
     "metadata": {},
     "output_type": "execute_result"
    }
   ],
   "source": [
    "value_counts_churn(data, 'StreamingTV')"
   ]
  },
  {
   "cell_type": "markdown",
   "id": "f3b6147c",
   "metadata": {},
   "source": [
    "Os serviços anteriores que estão relacionados a internet mostram que a falta deste serviço leva um aumento da **taxa de churn**. Entretanto, aqui este comportamento diminuí drasticamente, onde se tem um leve aumento de 3% nos casos de cancelamento, podendo indicar que este a inclusão ou a falta deste serviço não apresenta uma mudança grande na **taxa de churn**."
   ]
  },
  {
   "cell_type": "markdown",
   "id": "131d3f9a",
   "metadata": {},
   "source": [
    "## **StreamingMovies**\n",
    "\n",
    "Indica se o cliente possuí um serviço de streaming de filmes."
   ]
  },
  {
   "cell_type": "markdown",
   "id": "b7078c86",
   "metadata": {},
   "source": [
    "Através da nomenclatura usada para definir o atributo, é possível verificar que o atributo possuí **3 valores possíveis**, sendo eles **No** (Não possuí streaming de filmes), **Yes** (Possuí streaming de filmes) e **No internet service** (Não possuí serviço de internet). Aqui é possível verificar que a informação sobre serviço de internet é a mesma de ter um **No** na variável **Internet Service**."
   ]
  },
  {
   "cell_type": "code",
   "execution_count": 31,
   "id": "61d2cb09",
   "metadata": {},
   "outputs": [
    {
     "data": {
      "text/html": [
       "<div>\n",
       "<style scoped>\n",
       "    .dataframe tbody tr th:only-of-type {\n",
       "        vertical-align: middle;\n",
       "    }\n",
       "\n",
       "    .dataframe tbody tr th {\n",
       "        vertical-align: top;\n",
       "    }\n",
       "\n",
       "    .dataframe thead th {\n",
       "        text-align: right;\n",
       "    }\n",
       "</style>\n",
       "<table border=\"1\" class=\"dataframe\">\n",
       "  <thead>\n",
       "    <tr style=\"text-align: right;\">\n",
       "      <th></th>\n",
       "      <th>Quantidade</th>\n",
       "      <th>Porcentagem</th>\n",
       "      <th>Churn</th>\n",
       "      <th>Churn (%)</th>\n",
       "    </tr>\n",
       "    <tr>\n",
       "      <th>Valor</th>\n",
       "      <th></th>\n",
       "      <th></th>\n",
       "      <th></th>\n",
       "      <th></th>\n",
       "    </tr>\n",
       "  </thead>\n",
       "  <tbody>\n",
       "    <tr>\n",
       "      <th>No</th>\n",
       "      <td>2785</td>\n",
       "      <td>39.54</td>\n",
       "      <td>938</td>\n",
       "      <td>33.68</td>\n",
       "    </tr>\n",
       "    <tr>\n",
       "      <th>Yes</th>\n",
       "      <td>2732</td>\n",
       "      <td>38.79</td>\n",
       "      <td>818</td>\n",
       "      <td>29.94</td>\n",
       "    </tr>\n",
       "    <tr>\n",
       "      <th>No internet service</th>\n",
       "      <td>1526</td>\n",
       "      <td>21.67</td>\n",
       "      <td>113</td>\n",
       "      <td>7.40</td>\n",
       "    </tr>\n",
       "  </tbody>\n",
       "</table>\n",
       "</div>"
      ],
      "text/plain": [
       "                     Quantidade  Porcentagem  Churn  Churn (%)\n",
       "Valor                                                         \n",
       "No                         2785        39.54    938      33.68\n",
       "Yes                        2732        38.79    818      29.94\n",
       "No internet service        1526        21.67    113       7.40"
      ]
     },
     "execution_count": 31,
     "metadata": {},
     "output_type": "execute_result"
    }
   ],
   "source": [
    "value_counts_churn(data, 'StreamingMovies')"
   ]
  },
  {
   "cell_type": "markdown",
   "id": "355668fd",
   "metadata": {},
   "source": [
    "Aqui é possível verificar um comportamento praticamente igual ao de **streaming de TV**, onde clientes **ter ou não** este serviço não parece criar uma grande mudança na **taxa de Churn**. Sendo assim, podemos chegar a conclusão novamente que esta informação sozinha não é um bom indicativo de cancelamento, e sim, outras informações referentes ao serviço de internet."
   ]
  },
  {
   "cell_type": "markdown",
   "id": "ed6dc612",
   "metadata": {},
   "source": [
    "## **Contract**\n",
    "\n",
    "Tipo de contrato do cliente."
   ]
  },
  {
   "cell_type": "markdown",
   "id": "ab585644",
   "metadata": {},
   "source": [
    "Através da nomenclatura usada para definir o atributo, é possível verificar que o atributo possuí **3 valores possíveis**, sendo eles **Month-to-month** (Contrato pago todos os meses), **One year** (Contrato de um ano de serviço) e **Two year** (contrato de dois anos de serviço)."
   ]
  },
  {
   "cell_type": "code",
   "execution_count": 32,
   "id": "7001d27b",
   "metadata": {},
   "outputs": [
    {
     "data": {
      "text/html": [
       "<div>\n",
       "<style scoped>\n",
       "    .dataframe tbody tr th:only-of-type {\n",
       "        vertical-align: middle;\n",
       "    }\n",
       "\n",
       "    .dataframe tbody tr th {\n",
       "        vertical-align: top;\n",
       "    }\n",
       "\n",
       "    .dataframe thead th {\n",
       "        text-align: right;\n",
       "    }\n",
       "</style>\n",
       "<table border=\"1\" class=\"dataframe\">\n",
       "  <thead>\n",
       "    <tr style=\"text-align: right;\">\n",
       "      <th></th>\n",
       "      <th>Quantidade</th>\n",
       "      <th>Porcentagem</th>\n",
       "      <th>Churn</th>\n",
       "      <th>Churn (%)</th>\n",
       "    </tr>\n",
       "    <tr>\n",
       "      <th>Valor</th>\n",
       "      <th></th>\n",
       "      <th></th>\n",
       "      <th></th>\n",
       "      <th></th>\n",
       "    </tr>\n",
       "  </thead>\n",
       "  <tbody>\n",
       "    <tr>\n",
       "      <th>Month-to-month</th>\n",
       "      <td>3875</td>\n",
       "      <td>55.02</td>\n",
       "      <td>1655</td>\n",
       "      <td>42.71</td>\n",
       "    </tr>\n",
       "    <tr>\n",
       "      <th>Two year</th>\n",
       "      <td>1695</td>\n",
       "      <td>24.07</td>\n",
       "      <td>48</td>\n",
       "      <td>2.83</td>\n",
       "    </tr>\n",
       "    <tr>\n",
       "      <th>One year</th>\n",
       "      <td>1473</td>\n",
       "      <td>20.91</td>\n",
       "      <td>166</td>\n",
       "      <td>11.27</td>\n",
       "    </tr>\n",
       "  </tbody>\n",
       "</table>\n",
       "</div>"
      ],
      "text/plain": [
       "                Quantidade  Porcentagem  Churn  Churn (%)\n",
       "Valor                                                    \n",
       "Month-to-month        3875        55.02   1655      42.71\n",
       "Two year              1695        24.07     48       2.83\n",
       "One year              1473        20.91    166      11.27"
      ]
     },
     "execution_count": 32,
     "metadata": {},
     "output_type": "execute_result"
    }
   ],
   "source": [
    "value_counts_churn(data, 'Contract')"
   ]
  },
  {
   "cell_type": "markdown",
   "id": "c59cb3a1",
   "metadata": {},
   "source": [
    "O tipo de contrato do cliente indica grandes diferenças nas **taxas de churn**, onde um contrato mensal tem uma chance muito maior de cancelamento do serviço em comparação aos contrato de **um ou dois anos**. Através dessa visualização, é possível entender este comportamento, pois clientes que optam por contratos maiores, **parecem ter a certeza da utilização do serviço, o que leva a uma taxa de churn muito menor**."
   ]
  },
  {
   "cell_type": "markdown",
   "id": "0c4288e3",
   "metadata": {},
   "source": [
    "## **PaperlessBilling**\n",
    "\n",
    "Flag que indica se o cliente opta por não receber as contas físicas."
   ]
  },
  {
   "cell_type": "markdown",
   "id": "1c5bc24c",
   "metadata": {},
   "source": [
    "Através da nomenclatura usada para definir o atributo, é possível supôr que a mesma indica a *string* **Yes** para um cliente que **não deseja receber as contas físicas** e **Não** em caso contrário. De forma simples, esta coluna indica se o cliente deseja receber as notificações de pagamento apenas de **forma digital**."
   ]
  },
  {
   "cell_type": "code",
   "execution_count": 33,
   "id": "89a88cdb",
   "metadata": {},
   "outputs": [
    {
     "data": {
      "text/html": [
       "<div>\n",
       "<style scoped>\n",
       "    .dataframe tbody tr th:only-of-type {\n",
       "        vertical-align: middle;\n",
       "    }\n",
       "\n",
       "    .dataframe tbody tr th {\n",
       "        vertical-align: top;\n",
       "    }\n",
       "\n",
       "    .dataframe thead th {\n",
       "        text-align: right;\n",
       "    }\n",
       "</style>\n",
       "<table border=\"1\" class=\"dataframe\">\n",
       "  <thead>\n",
       "    <tr style=\"text-align: right;\">\n",
       "      <th></th>\n",
       "      <th>Quantidade</th>\n",
       "      <th>Porcentagem</th>\n",
       "      <th>Churn</th>\n",
       "      <th>Churn (%)</th>\n",
       "    </tr>\n",
       "    <tr>\n",
       "      <th>Valor</th>\n",
       "      <th></th>\n",
       "      <th></th>\n",
       "      <th></th>\n",
       "      <th></th>\n",
       "    </tr>\n",
       "  </thead>\n",
       "  <tbody>\n",
       "    <tr>\n",
       "      <th>Yes</th>\n",
       "      <td>4171</td>\n",
       "      <td>59.22</td>\n",
       "      <td>1400</td>\n",
       "      <td>33.57</td>\n",
       "    </tr>\n",
       "    <tr>\n",
       "      <th>No</th>\n",
       "      <td>2872</td>\n",
       "      <td>40.78</td>\n",
       "      <td>469</td>\n",
       "      <td>16.33</td>\n",
       "    </tr>\n",
       "  </tbody>\n",
       "</table>\n",
       "</div>"
      ],
      "text/plain": [
       "       Quantidade  Porcentagem  Churn  Churn (%)\n",
       "Valor                                           \n",
       "Yes          4171        59.22   1400      33.57\n",
       "No           2872        40.78    469      16.33"
      ]
     },
     "execution_count": 33,
     "metadata": {},
     "output_type": "execute_result"
    }
   ],
   "source": [
    "value_counts_churn(data, 'PaperlessBilling')"
   ]
  },
  {
   "cell_type": "markdown",
   "id": "474d9e50",
   "metadata": {},
   "source": [
    "Cerca de 60% dos clientes optam por receber as contas apenas de forma digital e além disso, a **taxa de churn** praticamente dobra nos clientes dessa categoria. Aqui podemos verificar que desejar um processo sem contas físicas aumenta as chances de cancelamento, entretanto é necessário verificar outros dados que podem ajudar a entender este comportamento, como verificar os tipos de contratos mais utilizados, além dos agrupamentos com serviços extras de internet e dados sobre parceiros/dependentes."
   ]
  },
  {
   "cell_type": "markdown",
   "id": "69fabbb2",
   "metadata": {},
   "source": [
    "## **PaymentMethod**\n",
    "\n",
    "Método de pagamento utilizado pelo cliente."
   ]
  },
  {
   "cell_type": "markdown",
   "id": "b505c738",
   "metadata": {},
   "source": [
    "Através da nomenclatura usada para definir o atributo, é possível verificar que o atributo possuí **4 opções possíveis**, sendo eles **Credit card (automatic)** (Pagamento automático com o cartão de crédito), **Bank transfer (automatic)** (Pagamento automático com transferência bancária), **Mailed check** (Pagamento através dos correios) e **Electronic Check** (Pagamento eletrônico)."
   ]
  },
  {
   "cell_type": "code",
   "execution_count": 34,
   "id": "4c725bc2",
   "metadata": {},
   "outputs": [
    {
     "data": {
      "text/html": [
       "<div>\n",
       "<style scoped>\n",
       "    .dataframe tbody tr th:only-of-type {\n",
       "        vertical-align: middle;\n",
       "    }\n",
       "\n",
       "    .dataframe tbody tr th {\n",
       "        vertical-align: top;\n",
       "    }\n",
       "\n",
       "    .dataframe thead th {\n",
       "        text-align: right;\n",
       "    }\n",
       "</style>\n",
       "<table border=\"1\" class=\"dataframe\">\n",
       "  <thead>\n",
       "    <tr style=\"text-align: right;\">\n",
       "      <th></th>\n",
       "      <th>Quantidade</th>\n",
       "      <th>Porcentagem</th>\n",
       "      <th>Churn</th>\n",
       "      <th>Churn (%)</th>\n",
       "    </tr>\n",
       "    <tr>\n",
       "      <th>Valor</th>\n",
       "      <th></th>\n",
       "      <th></th>\n",
       "      <th></th>\n",
       "      <th></th>\n",
       "    </tr>\n",
       "  </thead>\n",
       "  <tbody>\n",
       "    <tr>\n",
       "      <th>Electronic check</th>\n",
       "      <td>2365</td>\n",
       "      <td>33.58</td>\n",
       "      <td>1071</td>\n",
       "      <td>45.29</td>\n",
       "    </tr>\n",
       "    <tr>\n",
       "      <th>Mailed check</th>\n",
       "      <td>1612</td>\n",
       "      <td>22.89</td>\n",
       "      <td>308</td>\n",
       "      <td>19.11</td>\n",
       "    </tr>\n",
       "    <tr>\n",
       "      <th>Bank transfer (automatic)</th>\n",
       "      <td>1544</td>\n",
       "      <td>21.92</td>\n",
       "      <td>258</td>\n",
       "      <td>16.71</td>\n",
       "    </tr>\n",
       "    <tr>\n",
       "      <th>Credit card (automatic)</th>\n",
       "      <td>1522</td>\n",
       "      <td>21.61</td>\n",
       "      <td>232</td>\n",
       "      <td>15.24</td>\n",
       "    </tr>\n",
       "  </tbody>\n",
       "</table>\n",
       "</div>"
      ],
      "text/plain": [
       "                           Quantidade  Porcentagem  Churn  Churn (%)\n",
       "Valor                                                               \n",
       "Electronic check                 2365        33.58   1071      45.29\n",
       "Mailed check                     1612        22.89    308      19.11\n",
       "Bank transfer (automatic)        1544        21.92    258      16.71\n",
       "Credit card (automatic)          1522        21.61    232      15.24"
      ]
     },
     "execution_count": 34,
     "metadata": {},
     "output_type": "execute_result"
    }
   ],
   "source": [
    "value_counts_churn(data, 'PaymentMethod')"
   ]
  },
  {
   "cell_type": "markdown",
   "id": "c53723a2",
   "metadata": {},
   "source": [
    "O método de pagamento possuí 4 formas diferentes, onde 3 delas possuem uma **taxa de churn** bem próxima, sendo possível verificar um grande aumento de cancelamentos no método de **pagamento manual eletrônico**. Aqui é possível verificar alguns agrupamentos, como tanto o pagamento por transferência bancária quanto cartão de crédito são feitos de forma automática, o que poderia agrupar eles em uma mesma categoria (tanto que suas taxas de churn são bem parecidas).\n",
    "\n",
    "Com essas informações disponíveis, é interessante verificar mais a fundo a categoria de **Electronic check**, dando atenção ao **tipo de contrato**, além dos serviços online desejados."
   ]
  },
  {
   "cell_type": "markdown",
   "id": "35fd74c2",
   "metadata": {},
   "source": [
    "## **MonthlyCharges**\n",
    "\n",
    "Gasto mensal do cliente com o serviço."
   ]
  },
  {
   "cell_type": "markdown",
   "id": "537fb9a4",
   "metadata": {},
   "source": [
    "Aqui é encontrada outra coluna com valores numéricos, indicando o custo **mensal** do cliente com o serviço. (Não é possível identificar a moeda utilizada)"
   ]
  },
  {
   "cell_type": "code",
   "execution_count": 35,
   "id": "08663b11",
   "metadata": {},
   "outputs": [
    {
     "data": {
      "text/plain": [
       "count   7,043.00\n",
       "mean       64.76\n",
       "std        30.09\n",
       "min        18.25\n",
       "25%        35.50\n",
       "50%        70.35\n",
       "75%        89.85\n",
       "max       118.75\n",
       "Name: MonthlyCharges, dtype: float64"
      ]
     },
     "execution_count": 35,
     "metadata": {},
     "output_type": "execute_result"
    }
   ],
   "source": [
    "data['MonthlyCharges'].describe()"
   ]
  },
  {
   "cell_type": "markdown",
   "id": "68907c5a",
   "metadata": {},
   "source": [
    "Verificando a distribuição deste atributo, podemos ter uma noção das diferenças dos valores cobrados ao cliente, indo de 18.25 até 118.75, onde o plano médio custa 64.76 e metade dos clientes pago pelo menos 70.35"
   ]
  },
  {
   "cell_type": "markdown",
   "id": "b0dda40a",
   "metadata": {},
   "source": [
    "Além disso, é interessante verificar a quantidade de valores distintos existem na coluna, para verificar a possibilidade de alguns valores fixos de planos."
   ]
  },
  {
   "cell_type": "code",
   "execution_count": 36,
   "id": "1e5a97da",
   "metadata": {},
   "outputs": [
    {
     "data": {
      "text/plain": [
       "1585"
      ]
     },
     "execution_count": 36,
     "metadata": {},
     "output_type": "execute_result"
    }
   ],
   "source": [
    "data['MonthlyCharges'].nunique()"
   ]
  },
  {
   "cell_type": "markdown",
   "id": "d2ebfa62",
   "metadata": {},
   "source": [
    "Temos 1585 valores diferentes de cobranças mensais, o que indica que o serviço não trabalha com a utilização de valores fixos para pagamento."
   ]
  },
  {
   "cell_type": "markdown",
   "id": "31719b2a",
   "metadata": {},
   "source": [
    "Outra informação interessante é verificar como os custos mensais se comportam entre os grupos de **churn** ou não."
   ]
  },
  {
   "cell_type": "code",
   "execution_count": 37,
   "id": "e220848d",
   "metadata": {},
   "outputs": [
    {
     "data": {
      "text/html": [
       "<div>\n",
       "<style scoped>\n",
       "    .dataframe tbody tr th:only-of-type {\n",
       "        vertical-align: middle;\n",
       "    }\n",
       "\n",
       "    .dataframe tbody tr th {\n",
       "        vertical-align: top;\n",
       "    }\n",
       "\n",
       "    .dataframe thead th {\n",
       "        text-align: right;\n",
       "    }\n",
       "</style>\n",
       "<table border=\"1\" class=\"dataframe\">\n",
       "  <thead>\n",
       "    <tr style=\"text-align: right;\">\n",
       "      <th></th>\n",
       "      <th>count</th>\n",
       "      <th>mean</th>\n",
       "      <th>std</th>\n",
       "      <th>min</th>\n",
       "      <th>25%</th>\n",
       "      <th>50%</th>\n",
       "      <th>75%</th>\n",
       "      <th>max</th>\n",
       "    </tr>\n",
       "    <tr>\n",
       "      <th>Churn</th>\n",
       "      <th></th>\n",
       "      <th></th>\n",
       "      <th></th>\n",
       "      <th></th>\n",
       "      <th></th>\n",
       "      <th></th>\n",
       "      <th></th>\n",
       "      <th></th>\n",
       "    </tr>\n",
       "  </thead>\n",
       "  <tbody>\n",
       "    <tr>\n",
       "      <th>No</th>\n",
       "      <td>5,174.00</td>\n",
       "      <td>61.27</td>\n",
       "      <td>31.09</td>\n",
       "      <td>18.25</td>\n",
       "      <td>25.10</td>\n",
       "      <td>64.43</td>\n",
       "      <td>88.40</td>\n",
       "      <td>118.75</td>\n",
       "    </tr>\n",
       "    <tr>\n",
       "      <th>Yes</th>\n",
       "      <td>1,869.00</td>\n",
       "      <td>74.44</td>\n",
       "      <td>24.67</td>\n",
       "      <td>18.85</td>\n",
       "      <td>56.15</td>\n",
       "      <td>79.65</td>\n",
       "      <td>94.20</td>\n",
       "      <td>118.35</td>\n",
       "    </tr>\n",
       "  </tbody>\n",
       "</table>\n",
       "</div>"
      ],
      "text/plain": [
       "         count  mean   std   min   25%   50%   75%    max\n",
       "Churn                                                    \n",
       "No    5,174.00 61.27 31.09 18.25 25.10 64.43 88.40 118.75\n",
       "Yes   1,869.00 74.44 24.67 18.85 56.15 79.65 94.20 118.35"
      ]
     },
     "execution_count": 37,
     "metadata": {},
     "output_type": "execute_result"
    }
   ],
   "source": [
    "data.groupby('Churn')['MonthlyCharges'].describe()"
   ]
  },
  {
   "cell_type": "markdown",
   "id": "669a5a7f",
   "metadata": {},
   "source": [
    "É possível avaliar que os ambos possuem os valores de máximo até mínimo muito próximos, mas verificando que a distribuição dos clientes de **churn** está mais concentrada em valores maiores. Veremos a distribuição em formato de histograma para cada uma das distribuições:"
   ]
  },
  {
   "cell_type": "code",
   "execution_count": 38,
   "id": "739e31f3",
   "metadata": {},
   "outputs": [
    {
     "data": {
      "image/png": "[encoded data removed]",
      "text/plain": [
       "<Figure size 1080x720 with 2 Axes>"
      ]
     },
     "metadata": {},
     "output_type": "display_data"
    }
   ],
   "source": [
    "fig, axes = plt.subplots(2, 1)\n",
    " \n",
    "fig.suptitle('Comparação dos gastos mensais entre clientes Churn e não-Churn')\n",
    "axes[0].set_title('Não-Churn')\n",
    "axes[1].set_title('Churn')\n",
    "  \n",
    "sns.histplot(data[data['Churn']=='No']['MonthlyCharges'], ax=axes[0], kde=True, color='blue')\n",
    "sns.histplot(data[data['Churn']=='Yes']['MonthlyCharges'], ax=axes[1], kde=True, color='red')\n",
    "plt.show()"
   ]
  },
  {
   "cell_type": "markdown",
   "id": "312010ce",
   "metadata": {},
   "source": [
    "Com a visualização dos gráficos, podemos notar que a grande maioria dos clientes que desistem do produto possuem um custo mensal alto."
   ]
  },
  {
   "cell_type": "markdown",
   "id": "620f1072",
   "metadata": {},
   "source": [
    "Por fim, podemos visualizar estes dois histogramos juntos, verificando a proporção de cada um em seus intervalos.\n",
    "\n",
    "**Neste caso, os dados de custo mensais serão agrupados em 10 intervalos diferentes.**"
   ]
  },
  {
   "cell_type": "code",
   "execution_count": 39,
   "id": "001bfe5c",
   "metadata": {},
   "outputs": [
    {
     "data": {
      "image/png": "[encoded data removed]",
      "text/plain": [
       "<Figure size 1080x720 with 1 Axes>"
      ]
     },
     "metadata": {},
     "output_type": "display_data"
    }
   ],
   "source": [
    "sns.histplot(data=data, x='MonthlyCharges', hue='Churn', bins=10,\n",
    "             stat='probability', common_norm=False)\n",
    "\n",
    "plt.title('Histograma de MonthlyCharges')\n",
    "plt.xlabel('MonthlyCharges')\n",
    "plt.ylabel('Porcentagem')\n",
    "plt.show()"
   ]
  },
  {
   "cell_type": "markdown",
   "id": "28f3babe",
   "metadata": {},
   "source": [
    "## **TotalCharges**\n",
    "\n",
    "Gastos totais do cliente com o serviço."
   ]
  },
  {
   "cell_type": "markdown",
   "id": "4473d774",
   "metadata": {},
   "source": [
    "Aqui é encontrada outra coluna com valores numéricos, indicando o custo **total** do cliente com o serviço. (Não é possível identificar a moeda utilizada)"
   ]
  },
  {
   "cell_type": "code",
   "execution_count": 40,
   "id": "5b139427",
   "metadata": {},
   "outputs": [
    {
     "data": {
      "text/plain": [
       "count   7,032.00\n",
       "mean    2,283.30\n",
       "std     2,266.77\n",
       "min        18.80\n",
       "25%       401.45\n",
       "50%     1,397.47\n",
       "75%     3,794.74\n",
       "max     8,684.80\n",
       "Name: TotalCharges, dtype: float64"
      ]
     },
     "execution_count": 40,
     "metadata": {},
     "output_type": "execute_result"
    }
   ],
   "source": [
    "data['TotalCharges'].describe()"
   ]
  },
  {
   "cell_type": "markdown",
   "id": "6ba20cf9",
   "metadata": {},
   "source": [
    "Através da distribuição da variável, é verificado o quanto cada cliente já gastou com o serviço. Aqui é possível verificar que essa informação tem uma distribuição entre 18.80 até o máximo de 8,684.0, onde cada cliente gastou em média 2,283.30 e metade gastou pelo menos 1,397.94, onde os valores muito altos estão puxando a média a um valor mais alto que a mediana."
   ]
  },
  {
   "cell_type": "markdown",
   "id": "ed2a8e65",
   "metadata": {},
   "source": [
    "Além disso, podemos verificar a distribuição dos gastos totais entre clientes **churn** e **não-churn**."
   ]
  },
  {
   "cell_type": "code",
   "execution_count": 41,
   "id": "92c4c947",
   "metadata": {},
   "outputs": [
    {
     "data": {
      "text/html": [
       "<div>\n",
       "<style scoped>\n",
       "    .dataframe tbody tr th:only-of-type {\n",
       "        vertical-align: middle;\n",
       "    }\n",
       "\n",
       "    .dataframe tbody tr th {\n",
       "        vertical-align: top;\n",
       "    }\n",
       "\n",
       "    .dataframe thead th {\n",
       "        text-align: right;\n",
       "    }\n",
       "</style>\n",
       "<table border=\"1\" class=\"dataframe\">\n",
       "  <thead>\n",
       "    <tr style=\"text-align: right;\">\n",
       "      <th></th>\n",
       "      <th>count</th>\n",
       "      <th>mean</th>\n",
       "      <th>std</th>\n",
       "      <th>min</th>\n",
       "      <th>25%</th>\n",
       "      <th>50%</th>\n",
       "      <th>75%</th>\n",
       "      <th>max</th>\n",
       "    </tr>\n",
       "    <tr>\n",
       "      <th>Churn</th>\n",
       "      <th></th>\n",
       "      <th></th>\n",
       "      <th></th>\n",
       "      <th></th>\n",
       "      <th></th>\n",
       "      <th></th>\n",
       "      <th></th>\n",
       "      <th></th>\n",
       "    </tr>\n",
       "  </thead>\n",
       "  <tbody>\n",
       "    <tr>\n",
       "      <th>No</th>\n",
       "      <td>5,163.00</td>\n",
       "      <td>2,555.34</td>\n",
       "      <td>2,329.46</td>\n",
       "      <td>18.80</td>\n",
       "      <td>577.83</td>\n",
       "      <td>1,683.60</td>\n",
       "      <td>4,264.12</td>\n",
       "      <td>8,672.45</td>\n",
       "    </tr>\n",
       "    <tr>\n",
       "      <th>Yes</th>\n",
       "      <td>1,869.00</td>\n",
       "      <td>1,531.80</td>\n",
       "      <td>1,890.82</td>\n",
       "      <td>18.85</td>\n",
       "      <td>134.50</td>\n",
       "      <td>703.55</td>\n",
       "      <td>2,331.30</td>\n",
       "      <td>8,684.80</td>\n",
       "    </tr>\n",
       "  </tbody>\n",
       "</table>\n",
       "</div>"
      ],
      "text/plain": [
       "         count     mean      std   min    25%      50%      75%      max\n",
       "Churn                                                                   \n",
       "No    5,163.00 2,555.34 2,329.46 18.80 577.83 1,683.60 4,264.12 8,672.45\n",
       "Yes   1,869.00 1,531.80 1,890.82 18.85 134.50   703.55 2,331.30 8,684.80"
      ]
     },
     "execution_count": 41,
     "metadata": {},
     "output_type": "execute_result"
    }
   ],
   "source": [
    "data.groupby('Churn')['TotalCharges'].describe()"
   ]
  },
  {
   "cell_type": "markdown",
   "id": "6ea4e416",
   "metadata": {},
   "source": [
    "É possível avaliar que os clientes que continuam com o serviço têm valores mais distribuidos, enquanto os que desistiram do serviço tendêm a desistir antes de chegarem a gastos maiores."
   ]
  },
  {
   "cell_type": "code",
   "execution_count": 42,
   "id": "6ccfdfa1",
   "metadata": {},
   "outputs": [
    {
     "data": {
      "image/png": "[encoded data removed]",
      "text/plain": [
       "<Figure size 1080x720 with 2 Axes>"
      ]
     },
     "metadata": {},
     "output_type": "display_data"
    }
   ],
   "source": [
    "fig, axes = plt.subplots(2, 1)\n",
    " \n",
    "fig.suptitle('Comparação dos gastos totais entre clientes Churn e não-Churn')\n",
    "axes[0].set_title('Não-Churn')\n",
    "axes[1].set_title('Churn')\n",
    "  \n",
    "sns.histplot(data[data['Churn']=='No']['TotalCharges'], ax=axes[0], kde=True, color='blue')\n",
    "sns.histplot(data[data['Churn']=='Yes']['TotalCharges'], ax=axes[1], kde=True, color='red')\n",
    "plt.show()"
   ]
  },
  {
   "cell_type": "markdown",
   "id": "d3200179",
   "metadata": {},
   "source": [
    "Isto é mais visivel visualizando em forma gráfica essa informação, onde boa a grande maioria dos clientes que desistiram do serviço tiveram custos \"menores\"."
   ]
  },
  {
   "cell_type": "code",
   "execution_count": 43,
   "id": "8893b218",
   "metadata": {},
   "outputs": [
    {
     "data": {
      "image/png": "[encoded data removed]",
      "text/plain": [
       "<Figure size 1080x720 with 1 Axes>"
      ]
     },
     "metadata": {},
     "output_type": "display_data"
    }
   ],
   "source": [
    "sns.histplot(data=data, x='TotalCharges', hue='Churn',\n",
    "             stat='probability', common_norm=False)\n",
    "\n",
    "plt.title('Histograma de TotalCharges')\n",
    "plt.xlabel('TotalCharges')\n",
    "plt.ylabel('Porcentagem')\n",
    "plt.show()"
   ]
  },
  {
   "cell_type": "markdown",
   "id": "147d70e2",
   "metadata": {},
   "source": [
    "Este comportamento é o mesmo visualizado no atributo **tenure**, onde clientes que estão mais tempos tem maiores chances de seguirem com o produto. O mesmo é visto aqui, se o cliente está \"gastando mais\", significa que ele está (ou pretende estar) mais tempo com o serviço."
   ]
  },
  {
   "cell_type": "markdown",
   "id": "42c72779",
   "metadata": {},
   "source": [
    "### Dados nulos\n",
    "\n",
    "O atributo **TotalCharges** é a única coluna que contém valores nulos e nesta subseção será verificado tais registros."
   ]
  },
  {
   "cell_type": "code",
   "execution_count": 44,
   "id": "67bcfd40",
   "metadata": {},
   "outputs": [
    {
     "data": {
      "text/plain": [
       "11"
      ]
     },
     "execution_count": 44,
     "metadata": {},
     "output_type": "execute_result"
    }
   ],
   "source": [
    "data['TotalCharges'].isna().sum()"
   ]
  },
  {
   "cell_type": "markdown",
   "id": "f9fbce6b",
   "metadata": {},
   "source": [
    "Aqui podemos verificar que existem 11 registros nulos. Para avaliar de forma melhor, podemos verificar estas linhas no dataset."
   ]
  },
  {
   "cell_type": "code",
   "execution_count": 45,
   "id": "375ee4dd",
   "metadata": {},
   "outputs": [
    {
     "data": {
      "text/html": [
       "<div>\n",
       "<style scoped>\n",
       "    .dataframe tbody tr th:only-of-type {\n",
       "        vertical-align: middle;\n",
       "    }\n",
       "\n",
       "    .dataframe tbody tr th {\n",
       "        vertical-align: top;\n",
       "    }\n",
       "\n",
       "    .dataframe thead th {\n",
       "        text-align: right;\n",
       "    }\n",
       "</style>\n",
       "<table border=\"1\" class=\"dataframe\">\n",
       "  <thead>\n",
       "    <tr style=\"text-align: right;\">\n",
       "      <th></th>\n",
       "      <th>customerID</th>\n",
       "      <th>gender</th>\n",
       "      <th>SeniorCitizen</th>\n",
       "      <th>Partner</th>\n",
       "      <th>Dependents</th>\n",
       "      <th>tenure</th>\n",
       "      <th>PhoneService</th>\n",
       "      <th>MultipleLines</th>\n",
       "      <th>InternetService</th>\n",
       "      <th>OnlineSecurity</th>\n",
       "      <th>OnlineBackup</th>\n",
       "      <th>DeviceProtection</th>\n",
       "      <th>TechSupport</th>\n",
       "      <th>StreamingTV</th>\n",
       "      <th>StreamingMovies</th>\n",
       "      <th>Contract</th>\n",
       "      <th>PaperlessBilling</th>\n",
       "      <th>PaymentMethod</th>\n",
       "      <th>MonthlyCharges</th>\n",
       "      <th>TotalCharges</th>\n",
       "      <th>Churn</th>\n",
       "    </tr>\n",
       "  </thead>\n",
       "  <tbody>\n",
       "    <tr>\n",
       "      <th>2531</th>\n",
       "      <td>5709-LVOEQ</td>\n",
       "      <td>Female</td>\n",
       "      <td>0.00</td>\n",
       "      <td>Yes</td>\n",
       "      <td>Yes</td>\n",
       "      <td>0.00</td>\n",
       "      <td>Yes</td>\n",
       "      <td>No</td>\n",
       "      <td>DSL</td>\n",
       "      <td>Yes</td>\n",
       "      <td>Yes</td>\n",
       "      <td>Yes</td>\n",
       "      <td>No</td>\n",
       "      <td>Yes</td>\n",
       "      <td>Yes</td>\n",
       "      <td>Two year</td>\n",
       "      <td>No</td>\n",
       "      <td>Mailed check</td>\n",
       "      <td>80.85</td>\n",
       "      <td>NaN</td>\n",
       "      <td>No</td>\n",
       "    </tr>\n",
       "    <tr>\n",
       "      <th>3343</th>\n",
       "      <td>4075-WKNIU</td>\n",
       "      <td>Female</td>\n",
       "      <td>0.00</td>\n",
       "      <td>Yes</td>\n",
       "      <td>Yes</td>\n",
       "      <td>0.00</td>\n",
       "      <td>Yes</td>\n",
       "      <td>Yes</td>\n",
       "      <td>DSL</td>\n",
       "      <td>No</td>\n",
       "      <td>Yes</td>\n",
       "      <td>Yes</td>\n",
       "      <td>Yes</td>\n",
       "      <td>Yes</td>\n",
       "      <td>No</td>\n",
       "      <td>Two year</td>\n",
       "      <td>No</td>\n",
       "      <td>Mailed check</td>\n",
       "      <td>73.35</td>\n",
       "      <td>NaN</td>\n",
       "      <td>No</td>\n",
       "    </tr>\n",
       "    <tr>\n",
       "      <th>4023</th>\n",
       "      <td>2775-SEFEE</td>\n",
       "      <td>Male</td>\n",
       "      <td>0.00</td>\n",
       "      <td>No</td>\n",
       "      <td>Yes</td>\n",
       "      <td>0.00</td>\n",
       "      <td>Yes</td>\n",
       "      <td>Yes</td>\n",
       "      <td>DSL</td>\n",
       "      <td>Yes</td>\n",
       "      <td>Yes</td>\n",
       "      <td>No</td>\n",
       "      <td>Yes</td>\n",
       "      <td>No</td>\n",
       "      <td>No</td>\n",
       "      <td>Two year</td>\n",
       "      <td>Yes</td>\n",
       "      <td>Bank transfer (automatic)</td>\n",
       "      <td>61.90</td>\n",
       "      <td>NaN</td>\n",
       "      <td>No</td>\n",
       "    </tr>\n",
       "    <tr>\n",
       "      <th>4315</th>\n",
       "      <td>1371-DWPAZ</td>\n",
       "      <td>Female</td>\n",
       "      <td>0.00</td>\n",
       "      <td>Yes</td>\n",
       "      <td>Yes</td>\n",
       "      <td>0.00</td>\n",
       "      <td>No</td>\n",
       "      <td>No phone service</td>\n",
       "      <td>DSL</td>\n",
       "      <td>Yes</td>\n",
       "      <td>Yes</td>\n",
       "      <td>Yes</td>\n",
       "      <td>Yes</td>\n",
       "      <td>Yes</td>\n",
       "      <td>No</td>\n",
       "      <td>Two year</td>\n",
       "      <td>No</td>\n",
       "      <td>Credit card (automatic)</td>\n",
       "      <td>56.05</td>\n",
       "      <td>NaN</td>\n",
       "      <td>No</td>\n",
       "    </tr>\n",
       "    <tr>\n",
       "      <th>4583</th>\n",
       "      <td>4472-LVYGI</td>\n",
       "      <td>Female</td>\n",
       "      <td>0.00</td>\n",
       "      <td>Yes</td>\n",
       "      <td>Yes</td>\n",
       "      <td>0.00</td>\n",
       "      <td>No</td>\n",
       "      <td>No phone service</td>\n",
       "      <td>DSL</td>\n",
       "      <td>Yes</td>\n",
       "      <td>No</td>\n",
       "      <td>Yes</td>\n",
       "      <td>Yes</td>\n",
       "      <td>Yes</td>\n",
       "      <td>No</td>\n",
       "      <td>Two year</td>\n",
       "      <td>Yes</td>\n",
       "      <td>Bank transfer (automatic)</td>\n",
       "      <td>52.55</td>\n",
       "      <td>NaN</td>\n",
       "      <td>No</td>\n",
       "    </tr>\n",
       "    <tr>\n",
       "      <th>5484</th>\n",
       "      <td>4367-NUYAO</td>\n",
       "      <td>Male</td>\n",
       "      <td>0.00</td>\n",
       "      <td>Yes</td>\n",
       "      <td>Yes</td>\n",
       "      <td>0.00</td>\n",
       "      <td>Yes</td>\n",
       "      <td>Yes</td>\n",
       "      <td>No</td>\n",
       "      <td>No internet service</td>\n",
       "      <td>No internet service</td>\n",
       "      <td>No internet service</td>\n",
       "      <td>No internet service</td>\n",
       "      <td>No internet service</td>\n",
       "      <td>No internet service</td>\n",
       "      <td>Two year</td>\n",
       "      <td>No</td>\n",
       "      <td>Mailed check</td>\n",
       "      <td>25.75</td>\n",
       "      <td>NaN</td>\n",
       "      <td>No</td>\n",
       "    </tr>\n",
       "    <tr>\n",
       "      <th>5549</th>\n",
       "      <td>3213-VVOLG</td>\n",
       "      <td>Male</td>\n",
       "      <td>0.00</td>\n",
       "      <td>Yes</td>\n",
       "      <td>Yes</td>\n",
       "      <td>0.00</td>\n",
       "      <td>Yes</td>\n",
       "      <td>Yes</td>\n",
       "      <td>No</td>\n",
       "      <td>No internet service</td>\n",
       "      <td>No internet service</td>\n",
       "      <td>No internet service</td>\n",
       "      <td>No internet service</td>\n",
       "      <td>No internet service</td>\n",
       "      <td>No internet service</td>\n",
       "      <td>Two year</td>\n",
       "      <td>No</td>\n",
       "      <td>Mailed check</td>\n",
       "      <td>25.35</td>\n",
       "      <td>NaN</td>\n",
       "      <td>No</td>\n",
       "    </tr>\n",
       "    <tr>\n",
       "      <th>6213</th>\n",
       "      <td>3115-CZMZD</td>\n",
       "      <td>Male</td>\n",
       "      <td>0.00</td>\n",
       "      <td>No</td>\n",
       "      <td>Yes</td>\n",
       "      <td>0.00</td>\n",
       "      <td>Yes</td>\n",
       "      <td>No</td>\n",
       "      <td>No</td>\n",
       "      <td>No internet service</td>\n",
       "      <td>No internet service</td>\n",
       "      <td>No internet service</td>\n",
       "      <td>No internet service</td>\n",
       "      <td>No internet service</td>\n",
       "      <td>No internet service</td>\n",
       "      <td>Two year</td>\n",
       "      <td>No</td>\n",
       "      <td>Mailed check</td>\n",
       "      <td>20.25</td>\n",
       "      <td>NaN</td>\n",
       "      <td>No</td>\n",
       "    </tr>\n",
       "    <tr>\n",
       "      <th>6429</th>\n",
       "      <td>2520-SGTTA</td>\n",
       "      <td>Female</td>\n",
       "      <td>0.00</td>\n",
       "      <td>Yes</td>\n",
       "      <td>Yes</td>\n",
       "      <td>0.00</td>\n",
       "      <td>Yes</td>\n",
       "      <td>No</td>\n",
       "      <td>No</td>\n",
       "      <td>No internet service</td>\n",
       "      <td>No internet service</td>\n",
       "      <td>No internet service</td>\n",
       "      <td>No internet service</td>\n",
       "      <td>No internet service</td>\n",
       "      <td>No internet service</td>\n",
       "      <td>Two year</td>\n",
       "      <td>No</td>\n",
       "      <td>Mailed check</td>\n",
       "      <td>20.00</td>\n",
       "      <td>NaN</td>\n",
       "      <td>No</td>\n",
       "    </tr>\n",
       "    <tr>\n",
       "      <th>6562</th>\n",
       "      <td>7644-OMVMY</td>\n",
       "      <td>Male</td>\n",
       "      <td>0.00</td>\n",
       "      <td>Yes</td>\n",
       "      <td>Yes</td>\n",
       "      <td>0.00</td>\n",
       "      <td>Yes</td>\n",
       "      <td>No</td>\n",
       "      <td>No</td>\n",
       "      <td>No internet service</td>\n",
       "      <td>No internet service</td>\n",
       "      <td>No internet service</td>\n",
       "      <td>No internet service</td>\n",
       "      <td>No internet service</td>\n",
       "      <td>No internet service</td>\n",
       "      <td>Two year</td>\n",
       "      <td>No</td>\n",
       "      <td>Mailed check</td>\n",
       "      <td>19.85</td>\n",
       "      <td>NaN</td>\n",
       "      <td>No</td>\n",
       "    </tr>\n",
       "    <tr>\n",
       "      <th>6682</th>\n",
       "      <td>2923-ARZLG</td>\n",
       "      <td>Male</td>\n",
       "      <td>0.00</td>\n",
       "      <td>Yes</td>\n",
       "      <td>Yes</td>\n",
       "      <td>0.00</td>\n",
       "      <td>Yes</td>\n",
       "      <td>No</td>\n",
       "      <td>No</td>\n",
       "      <td>No internet service</td>\n",
       "      <td>No internet service</td>\n",
       "      <td>No internet service</td>\n",
       "      <td>No internet service</td>\n",
       "      <td>No internet service</td>\n",
       "      <td>No internet service</td>\n",
       "      <td>One year</td>\n",
       "      <td>Yes</td>\n",
       "      <td>Mailed check</td>\n",
       "      <td>19.70</td>\n",
       "      <td>NaN</td>\n",
       "      <td>No</td>\n",
       "    </tr>\n",
       "  </tbody>\n",
       "</table>\n",
       "</div>"
      ],
      "text/plain": [
       "      customerID  gender  SeniorCitizen Partner Dependents  tenure  \\\n",
       "2531  5709-LVOEQ  Female           0.00     Yes        Yes    0.00   \n",
       "3343  4075-WKNIU  Female           0.00     Yes        Yes    0.00   \n",
       "4023  2775-SEFEE    Male           0.00      No        Yes    0.00   \n",
       "4315  1371-DWPAZ  Female           0.00     Yes        Yes    0.00   \n",
       "4583  4472-LVYGI  Female           0.00     Yes        Yes    0.00   \n",
       "5484  4367-NUYAO    Male           0.00     Yes        Yes    0.00   \n",
       "5549  3213-VVOLG    Male           0.00     Yes        Yes    0.00   \n",
       "6213  3115-CZMZD    Male           0.00      No        Yes    0.00   \n",
       "6429  2520-SGTTA  Female           0.00     Yes        Yes    0.00   \n",
       "6562  7644-OMVMY    Male           0.00     Yes        Yes    0.00   \n",
       "6682  2923-ARZLG    Male           0.00     Yes        Yes    0.00   \n",
       "\n",
       "     PhoneService     MultipleLines InternetService       OnlineSecurity  \\\n",
       "2531          Yes                No             DSL                  Yes   \n",
       "3343          Yes               Yes             DSL                   No   \n",
       "4023          Yes               Yes             DSL                  Yes   \n",
       "4315           No  No phone service             DSL                  Yes   \n",
       "4583           No  No phone service             DSL                  Yes   \n",
       "5484          Yes               Yes              No  No internet service   \n",
       "5549          Yes               Yes              No  No internet service   \n",
       "6213          Yes                No              No  No internet service   \n",
       "6429          Yes                No              No  No internet service   \n",
       "6562          Yes                No              No  No internet service   \n",
       "6682          Yes                No              No  No internet service   \n",
       "\n",
       "             OnlineBackup     DeviceProtection          TechSupport  \\\n",
       "2531                  Yes                  Yes                   No   \n",
       "3343                  Yes                  Yes                  Yes   \n",
       "4023                  Yes                   No                  Yes   \n",
       "4315                  Yes                  Yes                  Yes   \n",
       "4583                   No                  Yes                  Yes   \n",
       "5484  No internet service  No internet service  No internet service   \n",
       "5549  No internet service  No internet service  No internet service   \n",
       "6213  No internet service  No internet service  No internet service   \n",
       "6429  No internet service  No internet service  No internet service   \n",
       "6562  No internet service  No internet service  No internet service   \n",
       "6682  No internet service  No internet service  No internet service   \n",
       "\n",
       "              StreamingTV      StreamingMovies  Contract PaperlessBilling  \\\n",
       "2531                  Yes                  Yes  Two year               No   \n",
       "3343                  Yes                   No  Two year               No   \n",
       "4023                   No                   No  Two year              Yes   \n",
       "4315                  Yes                   No  Two year               No   \n",
       "4583                  Yes                   No  Two year              Yes   \n",
       "5484  No internet service  No internet service  Two year               No   \n",
       "5549  No internet service  No internet service  Two year               No   \n",
       "6213  No internet service  No internet service  Two year               No   \n",
       "6429  No internet service  No internet service  Two year               No   \n",
       "6562  No internet service  No internet service  Two year               No   \n",
       "6682  No internet service  No internet service  One year              Yes   \n",
       "\n",
       "                  PaymentMethod  MonthlyCharges  TotalCharges Churn  \n",
       "2531               Mailed check           80.85           NaN    No  \n",
       "3343               Mailed check           73.35           NaN    No  \n",
       "4023  Bank transfer (automatic)           61.90           NaN    No  \n",
       "4315    Credit card (automatic)           56.05           NaN    No  \n",
       "4583  Bank transfer (automatic)           52.55           NaN    No  \n",
       "5484               Mailed check           25.75           NaN    No  \n",
       "5549               Mailed check           25.35           NaN    No  \n",
       "6213               Mailed check           20.25           NaN    No  \n",
       "6429               Mailed check           20.00           NaN    No  \n",
       "6562               Mailed check           19.85           NaN    No  \n",
       "6682               Mailed check           19.70           NaN    No  "
      ]
     },
     "execution_count": 45,
     "metadata": {},
     "output_type": "execute_result"
    }
   ],
   "source": [
    "data[data['TotalCharges'].isna()]"
   ]
  },
  {
   "cell_type": "markdown",
   "id": "ae75a3ed",
   "metadata": {},
   "source": [
    "Todos os dados encontrados estão no grupo de **Não-Churn** e com valores de **tenure** igual a zero, o que significa que esses clientes ainda não chegaram a utilizar o serviço de fato. Esta análise já foi feita na verificação do atributo **tenure**, onde foi indicado a possibilidade da utilização do **tenure** para calcular os valores de **TotalCharges**."
   ]
  },
  {
   "cell_type": "markdown",
   "id": "8f7c840f",
   "metadata": {},
   "source": [
    "# Considerações sobre os dados\n",
    "\n",
    "Após análise geral dos dados e as informações retiradas de cada um dos atributos, é possível organizar *insights* adquiridos:"
   ]
  },
  {
   "cell_type": "markdown",
   "id": "c5c030da",
   "metadata": {},
   "source": [
    "## Taxa de Churn\n",
    "\n",
    "O conjunto de dados contém 7043 linhas e 21 colunas, onde cada cliente possuí uma indicação se o mêsmo possuí **Churn ou não**. Ao verificar esses dados, é possível verificar que 1869 dos clientes desistiram do serviço, onde é possível calcular a **taxa de churn como 26.54%**. Em outras palavras, **1/4 dos clientes acabaram desistindo do serviço**, e com isso, temos o valor que desejamos diminuir, para entender os motivos de tais clientes abandonarem e como resolver tal problema."
   ]
  },
  {
   "cell_type": "markdown",
   "id": "ed8d566e",
   "metadata": {},
   "source": [
    "## Clientes idosos\n",
    "\n",
    "Mais de **41% dos clientes idosos** acabam desistindo do serviço, enquanto os clientes \"não-idosos\" seguem a taxa de churn próxima do calculado aos clientes totais. Por quê esse comportamento? É preciso avaliar esta informação de forma mais abrangente, comparando com os outros atributos:\n",
    "\n",
    "- Clientes idosos não têm interesse no serviços online?\n",
    "- Os altos custos de um serviço mais completo não é vantajoso?"
   ]
  },
  {
   "cell_type": "markdown",
   "id": "4b1fb6c9",
   "metadata": {},
   "source": [
    "## Contexto familiar?\n",
    "\n",
    "Verificando as informações sobre parceiro e dependentes, é visto que pessoas sem esses vínculos tem uma têndencia maior a desistirem do serviço, onde um cliente sem dependentes tem o **dobro de chance de abandonar o serviço**. Assim como os clientes idosos, é interessante verificar se os serviços entregados parecem atender melhor um contexto familiar, onde uma casa com mais membros terá benefícios que façam mais sentido do que para uma única pessoa."
   ]
  },
  {
   "cell_type": "markdown",
   "id": "51d2428a",
   "metadata": {},
   "source": [
    "## Serviços de Internet\n",
    "\n",
    "Muitos dos atributos estão relacionados com esta área, indicando se o cliente possuí ou não o serviço de internet, além de vários adições a esta modalidade. Pessoas com uma velocidade de internet melhor têm uma maior **taxa de churn**, além de que clientes que possuem internet mas não recebem certas adições têm maiores chances de cancelaram o serviço. Estas informações criam questionamentos para se relacionar:\n",
    "\n",
    "- Um serviço de internet sem adições não vale a pena?\n",
    "- Essas adições só fazem sentido em serviços de internet melhores, como o de fibra óptica?"
   ]
  },
  {
   "cell_type": "markdown",
   "id": "72abc009",
   "metadata": {},
   "source": [
    "## Contratos\n",
    "\n",
    "É possível verificar que contratos maiores têm menores taxas de churn, o que faz sentido avaliar se os tipos de serviços de cada contrato diferem entre si:\n",
    "\n",
    "- Contratos maiores recebem tais adições? Ou isto pode ser adicionado em qualquer tipo de contrato?"
   ]
  },
  {
   "cell_type": "markdown",
   "id": "fc051af4",
   "metadata": {},
   "source": [
    "## Contas e pagamentos\n",
    "\n",
    "Clientes que desejam receber as suas contas apenas de forma digital têm maiores chances de desistirem do produto. Além disso, um dos tipos de pagamento possuí uma **taxa de churn** muito maior do que todas as outras, isto pode estar relacionado com o tipo de contrato e serviços disponíveis para este formato de pagamento? E por quê clientes que recebem apenas contas digitais têm maiores taxas de churn?"
   ]
  },
  {
   "cell_type": "markdown",
   "id": "f0617393",
   "metadata": {},
   "source": [
    "## Gastos mensais\n",
    "\n",
    "Clientes que gastam pouco tem menores chances de desistirem dos que gastam mais. O que podemos retirar dessa informação? O aumento do preço do serviço não entrega adições relevantes? Quais serviços levam ao aumento de preço?"
   ]
  },
  {
   "cell_type": "markdown",
   "id": "b26a56d5",
   "metadata": {},
   "source": [
    "**Com as informações retiradas, será avaliado algumas hipóteses para entender os motivos de clientes desistirem do serviço e pensar em soluções para contornar tal ato.**"
   ]
  }
 ],
 "metadata": {
  "kernelspec": {
   "display_name": "Python 3 (ipykernel)",
   "language": "python",
   "name": "python3"
  },
  "language_info": {
   "codemirror_mode": {
    "name": "ipython",
    "version": 3
   },
   "file_extension": ".py",
   "mimetype": "text/x-python",
   "name": "python",
   "nbconvert_exporter": "python",
   "pygments_lexer": "ipython3",
   "version": "3.9.7"
  },
  "toc": {
   "base_numbering": 1,
   "nav_menu": {},
   "number_sections": true,
   "sideBar": true,
   "skip_h1_title": false,
   "title_cell": "Table of Contents",
   "title_sidebar": "Contents",
   "toc_cell": false,
   "toc_position": {
    "height": "calc(100% - 180px)",
    "left": "10px",
    "top": "150px",
    "width": "338.797px"
   },
   "toc_section_display": true,
   "toc_window_display": true
  }
 },
 "nbformat": 4,
 "nbformat_minor": 5
}
